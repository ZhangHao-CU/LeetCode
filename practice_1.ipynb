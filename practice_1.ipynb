{
 "cells": [
  {
   "cell_type": "markdown",
   "metadata": {},
   "source": [
    "# 535. Encode and Decode TinyURL"
   ]
  },
  {
   "cell_type": "code",
   "execution_count": null,
   "metadata": {},
   "outputs": [],
   "source": [
    "class Codec:\n",
    "\n",
    "    def __init__(self):\n",
    "        self.urls = []\n",
    "\n",
    "    def encode(self, longUrl):\n",
    "        if longUrl not in self.urls:\n",
    "            self.urls.append(longUrl)\n",
    "            return 'http://tinyurl.com/' + str(len(self.urls) - 1)\n",
    "        else:\n",
    "            return 'http://tinyurl.com/' + str(self.urls.index(longUrl))\n",
    "\n",
    "    def decode(self, shortUrl):\n",
    "        return self.urls[int(shortUrl.split('/')[-1])]\n",
    "    \n"
   ]
  },
  {
   "cell_type": "code",
   "execution_count": null,
   "metadata": {},
   "outputs": [],
   "source": [
    "codec = Codec()\n",
    "a = codec.encode('https://leetcode.com/problems/encode-and-decode-tinyurl/description/')\n",
    "b = codec.encode('https://leetcode.com/problems/encode-and-decode-tinyurl/description/')\n",
    "print(a)\n",
    "print(b)\n",
    "c = codec.decode('http://tinyurl.com/0')\n",
    "print(c)"
   ]
  },
  {
   "cell_type": "code",
   "execution_count": null,
   "metadata": {},
   "outputs": [],
   "source": [
    "c = ['a','b']\n",
    "search = 'a'\n",
    "if search not in c:\n",
    "    c.append(search)\n",
    "else:\n",
    "    print(type(c.index(search)))\n",
    "print(c)"
   ]
  },
  {
   "cell_type": "markdown",
   "metadata": {},
   "source": [
    "# 654. Maximum Binary Tree"
   ]
  },
  {
   "cell_type": "code",
   "execution_count": 52,
   "metadata": {},
   "outputs": [],
   "source": [
    "# Definition for a binary tree node.\n",
    "class TreeNode(object):\n",
    "    def __init__(self, x):\n",
    "        self.val = x\n",
    "        self.left = None\n",
    "        self.right = None\n",
    "\n",
    "class Solution(object):\n",
    "    def constructMaximumBinaryTree(self, nums):\n",
    "        \"\"\"\n",
    "        :type nums: List[int]\n",
    "        :rtype: TreeNode\n",
    "        \"\"\"\n",
    "        if nums:\n",
    "            ind = nums.index(max(nums))\n",
    "            root = TreeNode(nums[ind])\n",
    "            root.left = self.constructMaximumBinaryTree(nums[:ind])\n",
    "            root.right = self.constructMaximumBinaryTree(nums[ind+1:])\n",
    "            return root        "
   ]
  },
  {
   "cell_type": "code",
   "execution_count": 53,
   "metadata": {},
   "outputs": [
    {
     "name": "stdout",
     "output_type": "stream",
     "text": [
      "3\n"
     ]
    }
   ],
   "source": [
    "nums = [1,2,3,4,3,2,1]\n",
    "s = Solution()\n",
    "root = TreeNode(None)\n",
    "root = s.constructMaximumBinaryTree(nums)\n",
    "print(root.right.val)"
   ]
  },
  {
   "cell_type": "markdown",
   "metadata": {},
   "source": [
    "# 461. Hamming Distance"
   ]
  },
  {
   "cell_type": "code",
   "execution_count": 60,
   "metadata": {},
   "outputs": [],
   "source": [
    "class Solution(object):\n",
    "    def hammingDistance(self, x, y):\n",
    "        \"\"\"\n",
    "        :type x: int\n",
    "        :type y: int\n",
    "        :rtype: int\n",
    "        \"\"\"\n",
    "        exclusive_or = x ^ y\n",
    "        return bin(exclusive_or).split('b')[-1].count('1')"
   ]
  },
  {
   "cell_type": "code",
   "execution_count": 67,
   "metadata": {},
   "outputs": [
    {
     "name": "stdout",
     "output_type": "stream",
     "text": [
      "2\n"
     ]
    }
   ],
   "source": [
    "s = Solution()\n",
    "a = s.hammingDistance(9,12)\n",
    "print(a)"
   ]
  },
  {
   "cell_type": "markdown",
   "metadata": {},
   "source": [
    "# 657. Judge Route Circle"
   ]
  },
  {
   "cell_type": "code",
   "execution_count": 81,
   "metadata": {},
   "outputs": [],
   "source": [
    "class Solution(object):\n",
    "    def __init__(self):\n",
    "        self.position = [0,0]\n",
    "    def judgeCircle(self, moves):\n",
    "        \"\"\"\n",
    "        :type moves: str\n",
    "        :rtype: bool\n",
    "        \"\"\"\n",
    "        if not moves:\n",
    "            return False\n",
    "        for i in moves:\n",
    "            if i is 'L':\n",
    "                self.position[0] = self.position[0] - 1\n",
    "            if i is 'R':\n",
    "                self.position[0] = self.position[0] + 1\n",
    "            if i is 'U':\n",
    "                self.position[1] = self.position[1] + 1\n",
    "            if i is 'D':\n",
    "                self.position[1] = self.position[1] - 1\n",
    "        if self.position == [0,0]:\n",
    "            return True\n",
    "        else:\n",
    "            return False\n",
    "    def judgeCircle_2(self, moves):\n",
    "        return moves.count('L') == moves.count('R') and moves.count('U') == moves.count('D')"
   ]
  },
  {
   "cell_type": "code",
   "execution_count": 82,
   "metadata": {},
   "outputs": [
    {
     "name": "stdout",
     "output_type": "stream",
     "text": [
      "True\n"
     ]
    }
   ],
   "source": [
    "s = Solution()\n",
    "a = s.judgeCircle_2('UD')\n",
    "print(a)"
   ]
  },
  {
   "cell_type": "markdown",
   "metadata": {},
   "source": [
    "# 728. Self Dividing Numbers"
   ]
  },
  {
   "cell_type": "code",
   "execution_count": 107,
   "metadata": {},
   "outputs": [],
   "source": [
    "class Solution(object):\n",
    "    def selfDividingNumbers(self, left, right):\n",
    "        \"\"\"\n",
    "        :type left: int\n",
    "        :type right: int\n",
    "        :rtype: List[int]\n",
    "        \"\"\"\n",
    "        self_div = []\n",
    "        \n",
    "        for i in range(left,right+1):\n",
    "            tmp = str(i)\n",
    "            tmp_flag = 0\n",
    "            if '0' not in tmp:\n",
    "                for s in tmp:\n",
    "                    if i % int(s) != 0:\n",
    "                        tmp_flag = 1\n",
    "                        break\n",
    "                if tmp_flag == 0:\n",
    "                    self_div.append(i)\n",
    "                else:\n",
    "                    continue\n",
    "            else:\n",
    "                continue\n",
    "        return self_div"
   ]
  },
  {
   "cell_type": "code",
   "execution_count": 108,
   "metadata": {},
   "outputs": [
    {
     "name": "stdout",
     "output_type": "stream",
     "text": [
      "[1, 2, 3, 4, 5, 6, 7, 8, 9, 11, 12, 15, 22]\n"
     ]
    }
   ],
   "source": [
    "s = Solution()\n",
    "a = s.selfDividingNumbers(1,22)\n",
    "print(a)"
   ]
  },
  {
   "cell_type": "markdown",
   "metadata": {},
   "source": [
    "# 617. Merge Two Binary Trees"
   ]
  },
  {
   "cell_type": "code",
   "execution_count": 111,
   "metadata": {},
   "outputs": [],
   "source": [
    "# Definition for a binary tree node.\n",
    "class TreeNode(object):\n",
    "    def __init__(self, x):\n",
    "        self.val = x\n",
    "        self.left = None\n",
    "        self.right = None\n",
    "\n",
    "class Solution(object):\n",
    "    def mergeTrees(self, t1, t2):\n",
    "        \"\"\"\n",
    "        :type t1: TreeNode\n",
    "        :type t2: TreeNode\n",
    "        :rtype: TreeNode\n",
    "        \"\"\"\n",
    "        t = TreeNode(None)\n",
    "        if t1 and t2:\n",
    "            t.val = t1.val + t2.val\n",
    "            self.mergeTree(t1.left,t2.left)\n",
    "            self.mergeTree(t1.right,t2.right)\n",
    "        elif t1:\n",
    "            t.val = t1.val\n",
    "        elif t2:\n",
    "            t.val = t2.val\n",
    "        return t"
   ]
  },
  {
   "cell_type": "code",
   "execution_count": null,
   "metadata": {},
   "outputs": [],
   "source": [
    "s = Solution()\n"
   ]
  },
  {
   "cell_type": "markdown",
   "metadata": {},
   "source": [
    "## 763. Partition Labels"
   ]
  },
  {
   "cell_type": "code",
   "execution_count": 38,
   "metadata": {},
   "outputs": [],
   "source": [
    "class Solution(object):\n",
    "    def partitionLabels(self, S):\n",
    "        ##last occurance of each letter\n",
    "        last = {c: i for i, c in enumerate(S)}\n",
    "        j = anchor = 0\n",
    "        ans = []\n",
    "        for i, c in enumerate(S):\n",
    "            j = max(j, last[c])\n",
    "            if i == j:\n",
    "                ans.append(i - anchor + 1)\n",
    "                anchor = i + 1\n",
    "            \n",
    "        return ans\n",
    "            "
   ]
  },
  {
   "cell_type": "code",
   "execution_count": 39,
   "metadata": {},
   "outputs": [
    {
     "name": "stdout",
     "output_type": "stream",
     "text": [
      "[2, 3, 4, 5]\n",
      "{'f': 4, 'i': 0, 'd': 3, 's': 5, 'w': 1}\n",
      "0 i\n",
      "1 w\n",
      "2 d\n",
      "3 d\n",
      "4 f\n",
      "5 s\n"
     ]
    }
   ],
   "source": [
    "string = \"darrrrd\"\n",
    "index = []\n",
    "a = string.find(\"r\")\n",
    "while a >=0:\n",
    "    index.append(a)\n",
    "    a = string.find(\"r\",a+1)\n",
    "print(index)\n",
    "S = \"iwddfs\"\n",
    "last = {c : i for i, c in enumerate(S)}\n",
    "print(last)\n",
    "for c, value in enumerate(S):\n",
    "    print(c, value)"
   ]
  },
  {
   "cell_type": "markdown",
   "metadata": {},
   "source": [
    "# 561. Array Partition I"
   ]
  },
  {
   "cell_type": "code",
   "execution_count": 49,
   "metadata": {},
   "outputs": [],
   "source": [
    "class Solution(object):\n",
    "    def arrayPairSum(self, nums):\n",
    "        \n",
    "        if len(nums)%2 != 0 or len(nums) == 0:\n",
    "            return 0\n",
    "        nums.sort()\n",
    "        s = 0\n",
    "        for i in range(len(nums)):\n",
    "            if i%2 == 0:\n",
    "                s += nums[i]\n",
    "        return s"
   ]
  },
  {
   "cell_type": "code",
   "execution_count": 77,
   "metadata": {},
   "outputs": [
    {
     "name": "stdout",
     "output_type": "stream",
     "text": [
      "[1, 3, 2, 4]\n"
     ]
    }
   ],
   "source": [
    "a = [1,3,2,4]\n",
    "print(a[::1])"
   ]
  },
  {
   "cell_type": "markdown",
   "metadata": {},
   "source": [
    "# 537. Complex Number Multiplication"
   ]
  },
  {
   "cell_type": "code",
   "execution_count": 111,
   "metadata": {},
   "outputs": [],
   "source": [
    "import re\n",
    "class Solution(object):\n",
    "    def complexNumberMultiply(self, a, b):\n",
    "        a_nums = re.split('\\+|i',a)\n",
    "        b_nums = re.split('\\+|i',b)\n",
    "        a_real = int(a_nums[0])\n",
    "        a_img = int(a_nums[1])\n",
    "        b_real = int(b_nums[0])\n",
    "        b_img = int(b_nums[1])\n",
    "        return str(a_real*b_real - a_img*b_img) + \"+\" + str(a_real*b_img + a_img*b_real) + \"i\""
   ]
  },
  {
   "cell_type": "code",
   "execution_count": 110,
   "metadata": {},
   "outputs": [
    {
     "name": "stdout",
     "output_type": "stream",
     "text": [
      "1e\n"
     ]
    }
   ],
   "source": [
    "import re\n",
    "a = \"1+2i\"\n",
    "b = re.split('i|\\+',a)\n",
    "c = int(b[0])\n",
    "d = str(1) + \"e\"\n",
    "print(d)"
   ]
  },
  {
   "cell_type": "markdown",
   "metadata": {},
   "source": [
    "# 419. Battleships in a Board"
   ]
  },
  {
   "cell_type": "code",
   "execution_count": null,
   "metadata": {},
   "outputs": [],
   "source": [
    "class Solution(object):\n",
    "    def countBattleships(self, board):\n",
    "        h = len(board)\n",
    "        w = len(board[0]) if h else 0\n",
    "\n",
    "        ans = 0\n",
    "        for x in range(h):\n",
    "            for y in range(w):\n",
    "                if board[x][y] == 'X':\n",
    "                    if x > 0 and board[x - 1][y] == 'X':\n",
    "                        continue\n",
    "                    if y > 0 and board[x][y - 1] == 'X':\n",
    "                        continue\n",
    "                    ans += 1\n",
    "        return ans"
   ]
  },
  {
   "cell_type": "markdown",
   "metadata": {},
   "source": [
    "# 338. Counting Bits"
   ]
  },
  {
   "cell_type": "code",
   "execution_count": 129,
   "metadata": {},
   "outputs": [],
   "source": [
    "class Solution(object):\n",
    "    def countBits(self, num):\n",
    "        \"\"\"\n",
    "        :type num: int\n",
    "        :rtype: List[int]\n",
    "        \"\"\"\n",
    "        ans = []\n",
    "        if num < 0:\n",
    "            return ans\n",
    "        ans.append(0)\n",
    "        for i in range(1,num+1):\n",
    "            for j in range(num):\n",
    "                if math.pow(2,j) > i:\n",
    "                    j -= 1\n",
    "                    break\n",
    "            ans.append(ans[i-int(math.pow(2,j))] + 1)\n",
    "        return ans"
   ]
  },
  {
   "cell_type": "code",
   "execution_count": 132,
   "metadata": {},
   "outputs": [
    {
     "name": "stdout",
     "output_type": "stream",
     "text": [
      "[0, 1, 1, 2, 1, 2, 2, 3, 1, 2, 2, 3, 2, 3, 3, 4, 1, 2, 2, 3, 2, 3, 3, 4, 2, 3]\n"
     ]
    }
   ],
   "source": [
    "s = Solution()\n",
    "b = s.countBits(25)\n",
    "print(b)"
   ]
  },
  {
   "cell_type": "markdown",
   "metadata": {},
   "source": [
    "# 476. Number Complement"
   ]
  },
  {
   "cell_type": "code",
   "execution_count": 17,
   "metadata": {},
   "outputs": [],
   "source": [
    "import math\n",
    "class Solution(object):\n",
    "    def findComplement(self, num):\n",
    "        \"\"\"\n",
    "        :type num: int\n",
    "        :rtype: int\n",
    "        \"\"\"\n",
    "        for i in range(num):\n",
    "            if math.pow(2,i) > num:\n",
    "                break\n",
    "        return int(math.pow(2,i)-1-num)"
   ]
  },
  {
   "cell_type": "code",
   "execution_count": 18,
   "metadata": {},
   "outputs": [
    {
     "name": "stdout",
     "output_type": "stream",
     "text": [
      "8\n"
     ]
    }
   ],
   "source": [
    "s = Solution()\n",
    "a = s.findComplement(23)\n",
    "print(a)"
   ]
  },
  {
   "cell_type": "code",
   "execution_count": 14,
   "metadata": {},
   "outputs": [],
   "source": [
    "import math\n",
    "class Solution(object):\n",
    "    def findComplement(self, num):\n",
    "        \"\"\"\n",
    "        :type num: int\n",
    "        :rtype: int\n",
    "        \"\"\"\n",
    "        i = 1\n",
    "        while i <= num:\n",
    "            i = i << 1\n",
    "        return (i - 1) ^ num"
   ]
  },
  {
   "cell_type": "markdown",
   "metadata": {},
   "source": [
    "# 344. Reverse String"
   ]
  },
  {
   "cell_type": "code",
   "execution_count": 23,
   "metadata": {},
   "outputs": [],
   "source": [
    "class Solution(object):\n",
    "    def reverseString(self, s):\n",
    "        \"\"\"\n",
    "        :type s: str\n",
    "        :rtype: str\n",
    "        \"\"\"\n",
    "        return s[-1::-1]"
   ]
  },
  {
   "cell_type": "code",
   "execution_count": 25,
   "metadata": {},
   "outputs": [
    {
     "name": "stdout",
     "output_type": "stream",
     "text": [
      "ananab\n"
     ]
    }
   ],
   "source": [
    "s = Solution()\n",
    "a = s.reverseString(\"banana\")\n",
    "print(a)"
   ]
  },
  {
   "cell_type": "markdown",
   "metadata": {},
   "source": [
    "# 557. Reverse Words in a String III"
   ]
  },
  {
   "cell_type": "code",
   "execution_count": 35,
   "metadata": {},
   "outputs": [],
   "source": [
    "class Solution(object):\n",
    "    def reverseWords(self, s):\n",
    "        \"\"\"\n",
    "        :type s: str\n",
    "        :rtype: str\n",
    "        \"\"\"\n",
    "        dic = s.split(' ')\n",
    "        for i in range(len(dic)):\n",
    "            dic[i] = dic[i][-1::-1]\n",
    "        return ' '.join(dic)"
   ]
  },
  {
   "cell_type": "code",
   "execution_count": 36,
   "metadata": {},
   "outputs": [
    {
     "name": "stdout",
     "output_type": "stream",
     "text": [
      "s'teL ekat edoCteeL tsetnoc\n"
     ]
    }
   ],
   "source": [
    "s = Solution()\n",
    "a = s.reverseWords(\"Let's take LeetCode contest\")\n",
    "print(a)"
   ]
  },
  {
   "cell_type": "markdown",
   "metadata": {},
   "source": [
    "# 500. Keyboard Row"
   ]
  },
  {
   "cell_type": "code",
   "execution_count": 48,
   "metadata": {},
   "outputs": [],
   "source": [
    "class Solution(object):\n",
    "    def findWords(self, words):\n",
    "        \"\"\"\n",
    "        :type words: List[str]\n",
    "        :rtype: List[str]\n",
    "        \"\"\"\n",
    "        a = set(\"qwertyuiop\")\n",
    "        b = set(\"asdfghjkl\")\n",
    "        c = set(\"zxcvbnm\")\n",
    "        ans = []\n",
    "        for word in words:\n",
    "            unique_word = set(word.lower())\n",
    "            if a&unique_word == unique_word:\n",
    "                ans.append(word)\n",
    "                continue\n",
    "            if b&unique_word == unique_word:\n",
    "                ans.append(word)\n",
    "                continue\n",
    "            if c&unique_word == unique_word:\n",
    "                ans.append(word)\n",
    "                continue\n",
    "        return ans\n",
    "                "
   ]
  },
  {
   "cell_type": "code",
   "execution_count": 50,
   "metadata": {},
   "outputs": [
    {
     "name": "stdout",
     "output_type": "stream",
     "text": [
      "['Alaska', 'Dad']\n"
     ]
    }
   ],
   "source": [
    "s = Solution()\n",
    "b = [\"Hello\", \"Alaska\", \"Dad\", \"Peace\"]\n",
    "a = s.findWords(b)\n",
    "print(a)"
   ]
  },
  {
   "cell_type": "markdown",
   "metadata": {},
   "source": [
    "# 682. Baseball Game"
   ]
  },
  {
   "cell_type": "code",
   "execution_count": 58,
   "metadata": {},
   "outputs": [],
   "source": [
    "class Solution(object):\n",
    "    def calPoints(self, ops):\n",
    "        \"\"\"\n",
    "        :type ops: List[str]\n",
    "        :rtype: int\n",
    "        \"\"\"\n",
    "        valid_ops = []\n",
    "        for op in ops:\n",
    "            if op == \"C\":\n",
    "                valid_ops.pop(-1)\n",
    "                continue\n",
    "            if op == \"D\":\n",
    "                valid_ops.append(2*valid_ops[-1])\n",
    "                continue\n",
    "            if op == \"+\":\n",
    "                valid_ops.append(valid_ops[-2]+valid_ops[-1])\n",
    "                continue\n",
    "            valid_ops.append(int(op))\n",
    "        print(valid_ops)\n",
    "        return sum(valid_ops)"
   ]
  },
  {
   "cell_type": "code",
   "execution_count": 60,
   "metadata": {},
   "outputs": [
    {
     "name": "stdout",
     "output_type": "stream",
     "text": [
      "[5, -2, -4, 9, 5, 14]\n",
      "27\n"
     ]
    }
   ],
   "source": [
    "s = Solution()\n",
    "a = s.calPoints([\"5\",\"-2\",\"4\",\"C\",\"D\",\"9\",\"+\",\"+\"])\n",
    "print(a)"
   ]
  },
  {
   "cell_type": "markdown",
   "metadata": {},
   "source": [
    "# 412. Fizz Buzz"
   ]
  },
  {
   "cell_type": "code",
   "execution_count": 70,
   "metadata": {},
   "outputs": [],
   "source": [
    "class Solution(object):\n",
    "    def fizzBuzz(self, n):\n",
    "        \"\"\"\n",
    "        :type n: int\n",
    "        :rtype: List[str]\n",
    "        \"\"\"\n",
    "        ans = []\n",
    "        for i in range(1,n+1):\n",
    "            if i%15 == 0:\n",
    "                ans.append(\"FizzBuzz\")\n",
    "                continue\n",
    "            if i%3 == 0:\n",
    "                ans.append(\"Fizz\")\n",
    "                continue\n",
    "            if i%5 == 0:\n",
    "                ans.append(\"Buzz\")\n",
    "                continue\n",
    "            ans.append(str(i))\n",
    "        return ans"
   ]
  },
  {
   "cell_type": "code",
   "execution_count": 71,
   "metadata": {},
   "outputs": [
    {
     "name": "stdout",
     "output_type": "stream",
     "text": [
      "['1', '2', 'Fizz', '4', 'Buzz', 'Fizz', '7', '8', 'Fizz', 'Buzz', '11', 'Fizz', '13', '14', 'FizzBuzz']\n"
     ]
    }
   ],
   "source": [
    "s = Solution()\n",
    "a = s.fizzBuzz(15)\n",
    "print(a)"
   ]
  },
  {
   "cell_type": "markdown",
   "metadata": {},
   "source": [
    "# 669. Trim a Binary Search Tree"
   ]
  },
  {
   "cell_type": "code",
   "execution_count": null,
   "metadata": {},
   "outputs": [],
   "source": [
    "# Definition for a binary tree node.\n",
    "# class TreeNode(object):\n",
    "#     def __init__(self, x):\n",
    "#         self.val = x\n",
    "#         self.left = None\n",
    "#         self.right = None\n",
    "\n",
    "class Solution(object):\n",
    "    def trimBST(self, root, L, R):\n",
    "        \"\"\"\n",
    "        :type root: TreeNode\n",
    "        :type L: int\n",
    "        :type R: int\n",
    "        :rtype: TreeNode\n",
    "        \"\"\"\n",
    "        def trim(node):\n",
    "            if not node:\n",
    "                return None\n",
    "            elif node.val > R:\n",
    "                return trim(node.left)\n",
    "            elif node.val < L:\n",
    "                return trim(node.right)\n",
    "            else:\n",
    "                node.left = trim(node.left)\n",
    "                node.right = trim(node.right)\n",
    "                return node\n",
    "\n",
    "        return trim(root)"
   ]
  },
  {
   "cell_type": "markdown",
   "metadata": {},
   "source": [
    "# 575. Distribute Candies"
   ]
  },
  {
   "cell_type": "code",
   "execution_count": 78,
   "metadata": {},
   "outputs": [],
   "source": [
    "class Solution(object):\n",
    "    def distributeCandies(self, candies):\n",
    "        \"\"\"\n",
    "        :type candies: List[int]\n",
    "        :rtype: int\n",
    "        \"\"\"\n",
    "        return min(len(set(candies)),len(candies)/2)"
   ]
  },
  {
   "cell_type": "code",
   "execution_count": 81,
   "metadata": {},
   "outputs": [
    {
     "name": "stdout",
     "output_type": "stream",
     "text": [
      "4\n"
     ]
    }
   ],
   "source": [
    "a = [1,1,2,2,3,3,3,5]\n",
    "s = Solution()\n",
    "v = s.distributeCandies(a)\n",
    "print(v)"
   ]
  },
  {
   "cell_type": "markdown",
   "metadata": {},
   "source": [
    "# 566. Reshape the Matrix"
   ]
  },
  {
   "cell_type": "code",
   "execution_count": 89,
   "metadata": {},
   "outputs": [],
   "source": [
    "import numpy as np\n",
    "class Solution(object):\n",
    "    def matrixReshape(self, nums, r, c):\n",
    "        \"\"\"\n",
    "        :type nums: List[List[int]]\n",
    "        :type r: int\n",
    "        :type c: int\n",
    "        :rtype: List[List[int]]\n",
    "        \"\"\"\n",
    "        try:\n",
    "            return np.reshape(nums, (r, c)).tolist()\n",
    "        except:\n",
    "            return nums"
   ]
  },
  {
   "cell_type": "code",
   "execution_count": 90,
   "metadata": {},
   "outputs": [
    {
     "name": "stdout",
     "output_type": "stream",
     "text": [
      "[[1, 2, 3, 4]]\n"
     ]
    }
   ],
   "source": [
    "s = Solution()\n",
    "nums = [[1, 2], [3, 4]]\n",
    "a = s.matrixReshape(nums,1,4)\n",
    "print(a)"
   ]
  },
  {
   "cell_type": "markdown",
   "metadata": {},
   "source": [
    "# 463. Island Perimeter"
   ]
  },
  {
   "cell_type": "code",
   "execution_count": 94,
   "metadata": {},
   "outputs": [],
   "source": [
    "class Solution(object):\n",
    "    def islandPerimeter(self, grid):\n",
    "        \"\"\"\n",
    "        :type grid: List[List[int]]\n",
    "        :rtype: int\n",
    "        \"\"\"\n",
    "        ans = 0\n",
    "        for i in range(len(grid)):\n",
    "            for j in range(len(grid)):\n",
    "                if grid[i][j] == 1:\n",
    "                    if i == 0 or grid[i-1][j] == 0:\n",
    "                        ans += 1\n",
    "                    if i == len(grid)-1 or grid[i+1][j] == 0:\n",
    "                        ans += 1\n",
    "                    if j == 0 or grid[i][j-1] == 0:\n",
    "                        ans += 1\n",
    "                    if j == len(grid)-1 or grid[i][j+1] == 0:\n",
    "                        ans += 1\n",
    "        return ans"
   ]
  },
  {
   "cell_type": "code",
   "execution_count": 108,
   "metadata": {},
   "outputs": [
    {
     "name": "stdout",
     "output_type": "stream",
     "text": [
      "16\n"
     ]
    }
   ],
   "source": [
    "nums = [[0,1,0,0],\n",
    " [1,1,1,0],\n",
    " [0,1,0,0],\n",
    " [1,1,0,0]]\n",
    "s = Solution()\n",
    "a = s.islandPerimeter(nums)\n",
    "print(a)"
   ]
  },
  {
   "cell_type": "markdown",
   "metadata": {},
   "source": [
    "# 496. Next Greater Element I"
   ]
  },
  {
   "cell_type": "code",
   "execution_count": 117,
   "metadata": {},
   "outputs": [],
   "source": [
    "class Solution(object):\n",
    "    def nextGreaterElement(self, findNums, nums):\n",
    "        \"\"\"\n",
    "        :type findNums: List[int]\n",
    "        :type nums: List[int]\n",
    "        :rtype: List[int]\n",
    "        \"\"\"\n",
    "        ans = []\n",
    "        for i in range(len(findNums)):\n",
    "            for a,b in enumerate(nums):\n",
    "                if b == i:\n",
    "                    break\n",
    "            for j in range(a,len(nums)):\n",
    "                if findNums[i] < nums[j]:\n",
    "                    ans.append(nums[j])\n",
    "                    break\n",
    "            if len(ans) == i:\n",
    "                ans.append(-1)\n",
    "        return ans"
   ]
  },
  {
   "cell_type": "code",
   "execution_count": 118,
   "metadata": {},
   "outputs": [
    {
     "name": "stdout",
     "output_type": "stream",
     "text": [
      "[-1, 3, -1]\n"
     ]
    }
   ],
   "source": [
    "s = Solution()\n",
    "nums1 = [4,1,2]\n",
    "nums2 = [1,3,4,2]\n",
    "\n",
    "a = s.nextGreaterElement(nums1,nums2)\n",
    "print(a)"
   ]
  },
  {
   "cell_type": "markdown",
   "metadata": {},
   "source": [
    "# 406. Queue Reconstruction by Height"
   ]
  },
  {
   "cell_type": "code",
   "execution_count": 159,
   "metadata": {},
   "outputs": [],
   "source": [
    "class Solution(object):\n",
    "    def reconstructQueue(self, people):\n",
    "        \"\"\"\n",
    "        :type people: List[List[int]]\n",
    "        :rtype: List[List[int]]\n",
    "        \"\"\"\n",
    "        ans = []\n",
    "        for person in people:\n",
    "            if person[1] == 0:\n",
    "                ans.append(person)\n",
    "        ans.sort(key = lambda x:x[0])\n",
    "        for i in range(1,len(people)):\n",
    "            for person in people:\n",
    "                if person[1] == i:\n",
    "                    count = i\n",
    "                    for p in range(len(ans)):\n",
    "                        if ans[p][0] >= person[0]:\n",
    "                            count -= 1\n",
    "                        if count == 0:\n",
    "                            ans.insert(p+1,person)\n",
    "        return ans         "
   ]
  },
  {
   "cell_type": "code",
   "execution_count": 162,
   "metadata": {},
   "outputs": [
    {
     "name": "stdout",
     "output_type": "stream",
     "text": [
      "[[7, 0], [7, 1], [6, 1], [5, 0], [5, 2], [4, 4]]\n",
      "[[5, 0], [7, 0], [5, 2], [6, 1], [4, 4], [7, 1]]\n"
     ]
    }
   ],
   "source": [
    "a = [[7,0], [4,4], [7,1], [5,0], [6,1], [5,2]]\n",
    "r = sorted(a, key=lambda x: (-x[0],x[1]))\n",
    "print(r)\n",
    "s = Solution()\n",
    "b = s.reconstructQueue(a)\n",
    "print(b)"
   ]
  },
  {
   "cell_type": "code",
   "execution_count": 161,
   "metadata": {},
   "outputs": [],
   "source": [
    "class Solution(object):\n",
    "    def reconstructQueue(self, people):\n",
    "        \"\"\"\n",
    "        :type people: List[List[int]]\n",
    "        :rtype: List[List[int]]\n",
    "        \"\"\"\n",
    "        res = []\n",
    "        for p in sorted(people, key=lambda x: (-x[0], x[1])):\n",
    "            res.insert(p[1],p)\n",
    "        return res"
   ]
  },
  {
   "cell_type": "markdown",
   "metadata": {},
   "source": [
    "# 442. Find All Duplicates in an Array"
   ]
  },
  {
   "cell_type": "code",
   "execution_count": 199,
   "metadata": {},
   "outputs": [],
   "source": [
    "class Solution(object):\n",
    "    def findDuplicates(self, nums):\n",
    "        \"\"\"\n",
    "        :type nums: List[int]\n",
    "        :rtype: List[int]\n",
    "        \"\"\"\n",
    "        res = list()\n",
    "        for i in range(0, len(nums)):\n",
    "            nums[abs(nums[i])-1] *= -1\n",
    "            if nums[abs(nums[i])-1] > 0:\n",
    "                res.append(abs(nums[i]))\n",
    "        return res"
   ]
  },
  {
   "cell_type": "code",
   "execution_count": 200,
   "metadata": {},
   "outputs": [
    {
     "name": "stdout",
     "output_type": "stream",
     "text": [
      "[1]\n"
     ]
    }
   ],
   "source": [
    "b = [1,1,2]\n",
    "s = Solution()\n",
    "c = s.findDuplicates(b)\n",
    "print(c)"
   ]
  },
  {
   "cell_type": "markdown",
   "metadata": {},
   "source": [
    "# 513. Find Bottom Left Tree Value"
   ]
  },
  {
   "cell_type": "code",
   "execution_count": 188,
   "metadata": {},
   "outputs": [],
   "source": [
    "# Definition for a binary tree node.\n",
    "# class TreeNode(object):\n",
    "#     def __init__(self, x):\n",
    "#         self.val = x\n",
    "#         self.left = None\n",
    "#         self.right = None\n",
    "\n",
    "class Solution(object):\n",
    "    def findBottomLeftValue(self, root):\n",
    "        \"\"\"\n",
    "        :type root: TreeNode\n",
    "        :rtype: int\n",
    "        \"\"\"\n",
    "        queue=[root]\n",
    "        ans=0\n",
    "        while any(queue):\n",
    "            ans=queue[0].val\n",
    "            queue=[leaf for node in queue for leaf in (node.left,node.right) if leaf]\n",
    "        return ans"
   ]
  },
  {
   "cell_type": "code",
   "execution_count": 190,
   "metadata": {},
   "outputs": [
    {
     "name": "stdout",
     "output_type": "stream",
     "text": [
      "[5]\n"
     ]
    }
   ],
   "source": [
    "a = [1,2,3,3,5]\n",
    "\n",
    "b = [i for i in a if i > 3]\n",
    "print(b)"
   ]
  },
  {
   "cell_type": "markdown",
   "metadata": {},
   "source": [
    "# 540. Single Element in a Sorted Array"
   ]
  },
  {
   "cell_type": "code",
   "execution_count": 197,
   "metadata": {},
   "outputs": [],
   "source": [
    "class Solution(object):\n",
    "    def singleNonDuplicate(self, nums):\n",
    "        \"\"\"\n",
    "        :type nums: List[int]\n",
    "        :rtype: int\n",
    "        \"\"\"\n",
    "        for i in range(0,len(nums),2):\n",
    "            if nums[i] != nums[i+1]:\n",
    "                return nums[i]\n",
    "        return 0"
   ]
  },
  {
   "cell_type": "code",
   "execution_count": 198,
   "metadata": {},
   "outputs": [
    {
     "name": "stdout",
     "output_type": "stream",
     "text": [
      "2\n"
     ]
    }
   ],
   "source": [
    "s = Solution()\n",
    "a = s.singleNonDuplicate([1,1,2,3,3,4,4,8,8])\n",
    "print(a)"
   ]
  },
  {
   "cell_type": "code",
   "execution_count": null,
   "metadata": {},
   "outputs": [],
   "source": [
    "class Solution(object):\n",
    "    def singleNonDuplicate(self, nums):\n",
    "        \"\"\"\n",
    "        :type nums: List[int]\n",
    "        :rtype: int\n",
    "        \"\"\"\n",
    "        l, r, n = 1, len(nums), len(nums)\n",
    "        while l < r:\n",
    "            mid = (l + r) >> 1\n",
    "            if mid < n and nums[mid-2]<nums[mid-1]<nums[mid]: return nums[mid-1]\n",
    "            l, r = [(mid+1,r), (l,mid-1)][(mid&1) ^ (nums[mid-1] != nums[mid-2])]\n",
    "        return nums[l-1]"
   ]
  },
  {
   "cell_type": "code",
   "execution_count": 206,
   "metadata": {},
   "outputs": [
    {
     "name": "stdout",
     "output_type": "stream",
     "text": [
      "0\n"
     ]
    }
   ],
   "source": [
    "print(1 ^ 1)"
   ]
  },
  {
   "cell_type": "markdown",
   "metadata": {},
   "source": [
    "# 637. Average of Levels in Binary Tree"
   ]
  },
  {
   "cell_type": "code",
   "execution_count": null,
   "metadata": {},
   "outputs": [],
   "source": [
    "# Definition for a binary tree node.\n",
    "# class TreeNode(object):\n",
    "#     def __init__(self, x):\n",
    "#         self.val = x\n",
    "#         self.left = None\n",
    "#         self.right = None\n",
    "\n",
    "class Solution(object):\n",
    "    def averageOfLevels(self, root):\n",
    "        \"\"\"\n",
    "        :type root: TreeNode\n",
    "        :rtype: List[float]\n",
    "        \"\"\"\n",
    "        ans = []\n",
    "        queue = [root]\n",
    "        while any(queue):\n",
    "            ans.append(sum(node.val for node in queue)/len(queue))\n",
    "            queue = [leaf for node in queue for leaf in (node.left, node.right) if leaf]\n",
    "        return ans"
   ]
  },
  {
   "cell_type": "markdown",
   "metadata": {},
   "source": [
    "# 762. Prime Number of Set Bits in Binary Representation"
   ]
  },
  {
   "cell_type": "code",
   "execution_count": null,
   "metadata": {},
   "outputs": [],
   "source": [
    "class Solution(object):\n",
    "    def countPrimeSetBits(self, L, R):\n",
    "        \"\"\"\n",
    "        :type L: int\n",
    "        :type R: int\n",
    "        :rtype: int\n",
    "        \"\"\"\n",
    "        primes = {2, 3, 5, 7, 11, 13, 17, 19}\n",
    "        return sum(bin(x).count('1') in primes\n",
    "                   for x in range(L, R+1))"
   ]
  },
  {
   "cell_type": "code",
   "execution_count": 13,
   "metadata": {},
   "outputs": [
    {
     "name": "stdout",
     "output_type": "stream",
     "text": [
      "2\n"
     ]
    }
   ],
   "source": [
    "a = bin(10)\n",
    "print(a.count(\"1\"))"
   ]
  },
  {
   "cell_type": "markdown",
   "metadata": {},
   "source": [
    "# 521. Longest Uncommon Subsequence I"
   ]
  },
  {
   "cell_type": "code",
   "execution_count": null,
   "metadata": {},
   "outputs": [],
   "source": [
    "class Solution(object):\n",
    "    def findLUSlength(self, a, b):\n",
    "        \"\"\"\n",
    "        :type a: str\n",
    "        :type b: str\n",
    "        :rtype: int\n",
    "        \"\"\"\n",
    "        if A == B:\n",
    "            return -1\n",
    "        return max(len(A), len(B))"
   ]
  },
  {
   "cell_type": "markdown",
   "metadata": {},
   "source": [
    "# 647. Palindromic Substrings"
   ]
  },
  {
   "cell_type": "code",
   "execution_count": 29,
   "metadata": {},
   "outputs": [],
   "source": [
    "class Solution(object):\n",
    "    def countSubstrings(self, s):\n",
    "        \"\"\"\n",
    "        :type s: str\n",
    "        :rtype: int\n",
    "        \"\"\"\n",
    "        if not s:\n",
    "            return 0\n",
    "        ans = len(s)\n",
    "        for i in range(2,len(s)+1):\n",
    "            for j in range(len(s)-i+1):\n",
    "                tmp = s[j:j+i]\n",
    "                if tmp[::-1] == tmp:\n",
    "                    ans += 1\n",
    "        return ans"
   ]
  },
  {
   "cell_type": "code",
   "execution_count": 31,
   "metadata": {},
   "outputs": [
    {
     "name": "stdout",
     "output_type": "stream",
     "text": [
      "11\n"
     ]
    }
   ],
   "source": [
    "s = Solution()\n",
    "b = \"abradsdfla\"\n",
    "a = s.countSubstrings(b)\n",
    "print(a)"
   ]
  },
  {
   "cell_type": "markdown",
   "metadata": {},
   "source": [
    "# 693. Binary Number with Alternating Bits"
   ]
  },
  {
   "cell_type": "code",
   "execution_count": 56,
   "metadata": {},
   "outputs": [],
   "source": [
    "class Solution(object):\n",
    "    def hasAlternatingBits(self, n):\n",
    "        \"\"\"\n",
    "        :type n: int\n",
    "        :rtype: bool\n",
    "        \"\"\"\n",
    "        a = ~n+2^(len(bin(n))-2)\n",
    "        n_bin = bin(n)[2:]\n",
    "        a_bin = bin(a)[2:]\n",
    "        return n_bin[::-1] == a_bin"
   ]
  },
  {
   "cell_type": "code",
   "execution_count": 58,
   "metadata": {},
   "outputs": [
    {
     "name": "stdout",
     "output_type": "stream",
     "text": [
      "False\n"
     ]
    }
   ],
   "source": [
    "s = Solution()\n",
    "a = s.hasAlternatingBits(11)\n",
    "print(a)"
   ]
  },
  {
   "cell_type": "code",
   "execution_count": null,
   "metadata": {},
   "outputs": [],
   "source": [
    "        bits = bin(n)\n",
    "        return all(bits[i] != bits[i+1]\n",
    "                   for i in range(len(bits) - 1))"
   ]
  },
  {
   "cell_type": "markdown",
   "metadata": {},
   "source": [
    "# 515. Find Largest Value in Each Tree Row"
   ]
  },
  {
   "cell_type": "code",
   "execution_count": 60,
   "metadata": {},
   "outputs": [],
   "source": [
    "# Definition for a binary tree node.\n",
    "# class TreeNode(object):\n",
    "#     def __init__(self, x):\n",
    "#         self.val = x\n",
    "#         self.left = None\n",
    "#         self.right = None\n",
    "\n",
    "class Solution(object):\n",
    "    def largestValues(self, root):\n",
    "        \"\"\"\n",
    "        :type root: TreeNode\n",
    "        :rtype: List[int]\n",
    "        \"\"\"\n",
    "        ans = []\n",
    "        queue = [root]\n",
    "        while any(queue):\n",
    "            ans.append(max(node.val for node in queue))\n",
    "            queue = [leaf for node in queu for leaf in (node.left, node.right) if leaf]\n",
    "        return ans"
   ]
  },
  {
   "cell_type": "markdown",
   "metadata": {},
   "source": [
    "# 292. Nim Game"
   ]
  },
  {
   "cell_type": "code",
   "execution_count": 61,
   "metadata": {},
   "outputs": [],
   "source": [
    "class Solution(object):\n",
    "    def canWinNim(self, n):\n",
    "        \"\"\"\n",
    "        :type n: int\n",
    "        :rtype: bool\n",
    "        \"\"\"\n",
    "        return n%4 != 0"
   ]
  },
  {
   "cell_type": "markdown",
   "metadata": {},
   "source": [
    "# 136. Single Number"
   ]
  },
  {
   "cell_type": "code",
   "execution_count": 65,
   "metadata": {},
   "outputs": [],
   "source": [
    "class Solution(object):\n",
    "    def singleNumber(self, nums):\n",
    "        \"\"\"\n",
    "        :type nums: List[int]\n",
    "        :rtype: int\n",
    "        \"\"\"\n",
    "        for num in list(set(nums)):\n",
    "            if nums.count(num) == 1:\n",
    "                return num\n",
    "        return 0"
   ]
  },
  {
   "cell_type": "code",
   "execution_count": 76,
   "metadata": {},
   "outputs": [],
   "source": [
    "class Solution(object):\n",
    "    def singleNumber(self, nums):\n",
    "        \"\"\"\n",
    "        :type nums: List[int]\n",
    "        :rtype: int\n",
    "        \"\"\"\n",
    "        return 2*sum(set(nums))-sum(nums)"
   ]
  },
  {
   "cell_type": "markdown",
   "metadata": {},
   "source": [
    "# 766. Toeplitz Matrix"
   ]
  },
  {
   "cell_type": "code",
   "execution_count": 81,
   "metadata": {},
   "outputs": [],
   "source": [
    "class Solution(object):\n",
    "    def isToeplitzMatrix(self, matrix):\n",
    "        \"\"\"\n",
    "        :type matrix: List[List[int]]\n",
    "        :rtype: bool\n",
    "        \"\"\"\n",
    "        for i in range(len(matrix)-1):\n",
    "            if matrix[i][:-1] != matrix[i+1][1:]:\n",
    "                return False\n",
    "        return True"
   ]
  },
  {
   "cell_type": "code",
   "execution_count": 86,
   "metadata": {},
   "outputs": [
    {
     "name": "stdout",
     "output_type": "stream",
     "text": [
      "True\n"
     ]
    }
   ],
   "source": [
    "matrix = [[1,2,3,4],[5,1,2,3]]\n",
    "s = Solution ()\n",
    "a = s.isToeplitzMatrix(matrix)\n",
    "print(a)"
   ]
  },
  {
   "cell_type": "markdown",
   "metadata": {},
   "source": [
    "# 413. Arithmetic Slices"
   ]
  },
  {
   "cell_type": "code",
   "execution_count": 21,
   "metadata": {},
   "outputs": [],
   "source": [
    "class Solution(object):\n",
    "    def numberOfArithmeticSlices(self, A):\n",
    "        \"\"\"\n",
    "        :type A: List[int]\n",
    "        :rtype: int\n",
    "        \"\"\"\n",
    "        count = []\n",
    "        ans = 0\n",
    "        tmp_counter = 0\n",
    "        for i in range(1,len(A)-1):\n",
    "            if A[i+1] and 2*A[i] == A[i-1] + A[i+1]:\n",
    "                tmp_counter += 1\n",
    "            elif tmp_counter >= 1:\n",
    "                count.append(tmp_counter + 2)\n",
    "                tmp_counter = 0\n",
    "        if tmp_counter >= 1:\n",
    "            count.append(tmp_counter + 2)\n",
    "        for i in count:\n",
    "            for j in range(1,i-1):\n",
    "                ans += j\n",
    "        return ans"
   ]
  },
  {
   "cell_type": "code",
   "execution_count": 22,
   "metadata": {},
   "outputs": [
    {
     "name": "stdout",
     "output_type": "stream",
     "text": [
      "[1, 2, 3, 4]\n",
      "[4]\n",
      "3\n"
     ]
    }
   ],
   "source": [
    "s = Solution()\n",
    "a = s.numberOfArithmeticSlices([1,2,3,4])\n",
    "print(a)"
   ]
  },
  {
   "cell_type": "code",
   "execution_count": null,
   "metadata": {},
   "outputs": [],
   "source": [
    "class Solution(object):\n",
    "    def numberOfArithmeticSlices(self, A):\n",
    "        \"\"\"\n",
    "        :type A: List[int]\n",
    "        :rtype: int\n",
    "        \"\"\"\n",
    "        ans = 0\n",
    "        curr = 0\n",
    "        for i in range(2,len(A)):\n",
    "            if A[i] - A[i-1] == A[i-1] - A[i-2]:\n",
    "                curr += 1\n",
    "                ans += curr\n",
    "            else:\n",
    "                curr = 0\n",
    "        return ans"
   ]
  },
  {
   "cell_type": "markdown",
   "metadata": {},
   "source": [
    "# 748. Shortest Completing Word"
   ]
  },
  {
   "cell_type": "code",
   "execution_count": 321,
   "metadata": {},
   "outputs": [],
   "source": [
    "class Solution(object):\n",
    "    def shortestCompletingWord(self, licensePlate, words):\n",
    "        \"\"\"\n",
    "        :type licensePlate: str\n",
    "        :type words: List[str]\n",
    "        :rtype: str\n",
    "        \"\"\"\n",
    "        plate = \"\"\n",
    "        licensePlate = licensePlate.lower()\n",
    "        ans = []\n",
    "        for char in licensePlate:\n",
    "            if char.islower() == True:\n",
    "                plate += char\n",
    "        for word in words:\n",
    "            flag = 0\n",
    "            for pp in plate:\n",
    "                if plate.count(pp) > word.count(pp):\n",
    "                    flag = 1\n",
    "                    break\n",
    "            if flag == 0 :\n",
    "                ans.append(word)\n",
    "                continue\n",
    "        print(ans)\n",
    "        if ans:\n",
    "            return min(ans, key = len)\n",
    "        else:\n",
    "            return None"
   ]
  },
  {
   "cell_type": "code",
   "execution_count": 322,
   "metadata": {},
   "outputs": [
    {
     "name": "stdout",
     "output_type": "stream",
     "text": [
      "s\n",
      "['looks', 'pest', 'stew', 'show']\n",
      "pest\n"
     ]
    }
   ],
   "source": [
    "licensePlate = \"1s3 456\"\n",
    "words = [\"looks\", \"pest\", \"stew\", \"show\"]\n",
    "s = Solution()\n",
    "a = s.shortestCompletingWord(licensePlate,words)\n",
    "print(a)"
   ]
  },
  {
   "cell_type": "code",
   "execution_count": 311,
   "metadata": {},
   "outputs": [
    {
     "name": "stdout",
     "output_type": "stream",
     "text": [
      "4\n"
     ]
    }
   ],
   "source": [
    "words = [\"looks\", \"pest\", \"stew\", \"show\"]\n",
    "print(len(words))"
   ]
  },
  {
   "cell_type": "markdown",
   "metadata": {},
   "source": [
    "## 485. Max Consecutive Ones"
   ]
  },
  {
   "cell_type": "code",
   "execution_count": null,
   "metadata": {},
   "outputs": [],
   "source": [
    "class Solution(object):\n",
    "    def findMaxConsecutiveOnes(self, nums):\n",
    "        \"\"\"\n",
    "        :type nums: List[int]\n",
    "        :rtype: int\n",
    "        \"\"\"\n",
    "        nums.append(0)\n",
    "        zero_index = [i for i, e in enumerate(nums) if e == 0]\n",
    "        if len(zero_index) == 0:\n",
    "            return len(nums)\n",
    "        ans = zero_index[0]\n",
    "        for i in range(1,len(zero_index)):\n",
    "            ans = max(ans, zero_index[i] - zero_index[i-1] - 1)\n",
    "        return ans"
   ]
  },
  {
   "cell_type": "code",
   "execution_count": 11,
   "metadata": {},
   "outputs": [
    {
     "name": "stdout",
     "output_type": "stream",
     "text": [
      "[2, 6, 8]\n",
      "1\n"
     ]
    }
   ],
   "source": [
    "a = [1,1,0,1,1,1,0,1,0]\n",
    "b = [i for i , e in enumerate(a) if e == 0]\n",
    "print(b)\n",
    "for i in range(1,2):\n",
    "    print(i)"
   ]
  },
  {
   "cell_type": "code",
   "execution_count": null,
   "metadata": {},
   "outputs": [],
   "source": [
    "class Solution(object):\n",
    "    def findMaxConsecutiveOnes(self, nums):\n",
    "        cnt = 0\n",
    "        ans = 0\n",
    "        for num in nums:\n",
    "            if num == 1:\n",
    "                cnt += 1\n",
    "                ans = max(ans, cnt)\n",
    "            else:\n",
    "                cnt = 0\n",
    "        return ans"
   ]
  },
  {
   "cell_type": "markdown",
   "metadata": {},
   "source": [
    "## 526. Beautiful Arrangement"
   ]
  },
  {
   "cell_type": "code",
   "execution_count": 222,
   "metadata": {},
   "outputs": [],
   "source": [
    "class Solution(object):\n",
    "    def countArrangement(self, N):\n",
    "        \"\"\"\n",
    "        :type N: int\n",
    "        :rtype: int\n",
    "        \"\"\"\n",
    "        ans = 0\n",
    "        R = list(range(2,N+1))\n",
    "        R[0] = 1\n",
    "        A = self.myFunction(R)\n",
    "        for entry_list in A:\n",
    "            ans += 1\n",
    "            for i in range(len(entry_list)):\n",
    "                if (i+1) % entry_list[i] != 0 and entry_list[i] % (i+1) != 0:\n",
    "                    ans -= 1\n",
    "                    break\n",
    "        return ans\n",
    "    \n",
    "    def myFunction(self, A):\n",
    "        B = []\n",
    "        def computePermulation(A,N):\n",
    "            if N >= len(A) - 1:\n",
    "                B.append(tuple(A))\n",
    "            else:\n",
    "                for i in range(N, len(A)):\n",
    "                    A[N], A[i] = A[i], A[N]\n",
    "                    computePermulation(A,N+1)\n",
    "                    A[N], A[i] = A[i], A[N]\n",
    "        computePermulation(A,0)\n",
    "        return B"
   ]
  },
  {
   "cell_type": "code",
   "execution_count": 223,
   "metadata": {},
   "outputs": [
    {
     "name": "stdout",
     "output_type": "stream",
     "text": [
      "8\n"
     ]
    }
   ],
   "source": [
    "s = Solution()\n",
    "a = s.countArrangement(6)\n",
    "print(a)"
   ]
  },
  {
   "cell_type": "code",
   "execution_count": 275,
   "metadata": {},
   "outputs": [
    {
     "name": "stdout",
     "output_type": "stream",
     "text": [
      "24679\n"
     ]
    }
   ],
   "source": [
    "s = Solution()\n",
    "s.countArrangement(15)\n",
    "print(s.ans)"
   ]
  },
  {
   "cell_type": "code",
   "execution_count": 274,
   "metadata": {},
   "outputs": [],
   "source": [
    "class Solution(object):\n",
    "    def __init__(self):\n",
    "        self.ans = 0\n",
    "    def countArrangement(self, N):\n",
    "        \"\"\"\n",
    "        :type N: int\n",
    "        :rtype: int\n",
    "        \"\"\"\n",
    "        A = list(range(1,N+1))\n",
    "        def myFunction(A,N):\n",
    "            if N >= len(A) - 1 and ((len(A)) % A[-1] == 0 or A[-1] % (len(A)) == 0):\n",
    "                self.ans += 1\n",
    "            else:\n",
    "                for i in range(N,len(A)):\n",
    "                    if (N+1) % A[i] != 0 and A[i] % (N+1) != 0:\n",
    "                        continue\n",
    "                    A[N], A[i] = A[i], A[N]\n",
    "                    myFunction(A,N+1)\n",
    "                    A[N], A[i] = A[i], A[N]\n",
    "            return self.ans\n",
    "        return myFunction(A,0)"
   ]
  },
  {
   "cell_type": "code",
   "execution_count": 261,
   "metadata": {},
   "outputs": [
    {
     "name": "stdout",
     "output_type": "stream",
     "text": [
      "3\n"
     ]
    }
   ],
   "source": [
    "A = [1,2,3]\n",
    "print(A[-1])"
   ]
  },
  {
   "cell_type": "code",
   "execution_count": null,
   "metadata": {},
   "outputs": [],
   "source": [
    "class Solution(object):\n",
    "    def countArrangement(self, N):\n",
    "    def count(i, X):\n",
    "        if i == 1:\n",
    "            return 1\n",
    "        return sum(count(i - 1, X - {x})\n",
    "                   for x in X\n",
    "                   if x % i == 0 or i % x == 0)\n",
    "    return count(N, set(range(1, N + 1)))"
   ]
  },
  {
   "cell_type": "code",
   "execution_count": 276,
   "metadata": {},
   "outputs": [
    {
     "name": "stdout",
     "output_type": "stream",
     "text": [
      "{1, 2, 3, 4, 5, 6, 7, 8, 9}\n"
     ]
    }
   ],
   "source": [
    "X = set(range(1,10))\n",
    "print(X)\n"
   ]
  },
  {
   "cell_type": "code",
   "execution_count": 287,
   "metadata": {},
   "outputs": [
    {
     "name": "stdout",
     "output_type": "stream",
     "text": [
      "2\n",
      "3\n",
      "4\n"
     ]
    },
    {
     "data": {
      "text/plain": [
       "3"
      ]
     },
     "execution_count": 287,
     "metadata": {},
     "output_type": "execute_result"
    }
   ],
   "source": [
    "def count(I):\n",
    "    print(I)\n",
    "    return 1\n",
    "sum(count(i) for i in range(5) if i >= 2)"
   ]
  },
  {
   "cell_type": "markdown",
   "metadata": {},
   "source": [
    "## 739. Daily Temperatures"
   ]
  },
  {
   "cell_type": "code",
   "execution_count": 355,
   "metadata": {},
   "outputs": [],
   "source": [
    "class Solution(object):\n",
    "    def dailyTemperatures(self, temperatures):\n",
    "        \"\"\"\n",
    "        :type temperatures: List[int]\n",
    "        :rtype: List[int]\n",
    "        \"\"\"\n",
    "        ans = [0]*len(temperatures)\n",
    "        for i in range(len(temperatures)-1):\n",
    "            for j in range(i+1, len(temperatures)):\n",
    "                if temperatures[j] > temperatures[i]:\n",
    "                    ans[i] = j - i\n",
    "                    break\n",
    "        return ans"
   ]
  },
  {
   "cell_type": "code",
   "execution_count": 384,
   "metadata": {},
   "outputs": [
    {
     "name": "stdout",
     "output_type": "stream",
     "text": [
      "[8, 1, 5, 4, 1, 2, 1, 1, 0, 0]\n"
     ]
    }
   ],
   "source": [
    "s = Solution()\n",
    "a = s.dailyTemperatures([89,62,70,58,47,47,46,76,100,70])\n",
    "print(a)"
   ]
  },
  {
   "cell_type": "code",
   "execution_count": 383,
   "metadata": {},
   "outputs": [],
   "source": [
    "class Solution(object):\n",
    "    def dailyTemperatures(self, temperatures):\n",
    "        \"\"\"\n",
    "        :type temperatures: List[int]\n",
    "        :rtype: List[int]\n",
    "        \"\"\"\n",
    "        ans = [0]*len(temperatures)\n",
    "        warmer_indexes = [float('inf')]*102\n",
    "        for i in range(len(temperatures)-1,-1,-1):\n",
    "            warmer_index = min(warmer_indexes[a] for a in range(temperatures[i]+1,102))\n",
    "            if warmer_index < float('inf'):\n",
    "                ans[i] = warmer_index-i\n",
    "            warmer_indexes[temperatures[i]] = i\n",
    "        return ans"
   ]
  },
  {
   "cell_type": "code",
   "execution_count": 382,
   "metadata": {},
   "outputs": [
    {
     "name": "stdout",
     "output_type": "stream",
     "text": [
      "[]\n"
     ]
    }
   ],
   "source": [
    "print([x for x in range(101,101)])"
   ]
  },
  {
   "cell_type": "markdown",
   "metadata": {},
   "source": [
    "## 226. Invert Binary Tree"
   ]
  },
  {
   "cell_type": "code",
   "execution_count": 388,
   "metadata": {},
   "outputs": [],
   "source": [
    "# Definition for a binary tree node.\n",
    "# class TreeNode(object):\n",
    "#     def __init__(self, x):\n",
    "#         self.val = x\n",
    "#         self.left = None\n",
    "#         self.right = None\n",
    "\n",
    "class Solution(object):\n",
    "    def invertTree(self, root):\n",
    "        \"\"\"\n",
    "        :type root: TreeNode\n",
    "        :rtype: TreeNode\n",
    "        \"\"\"\n",
    "        if not root:\n",
    "            return None\n",
    "        queue = [root]\n",
    "        while queue:\n",
    "            for each_node in queue:\n",
    "                each_node.left, each_node.right = each_node.right, each_node.left\n",
    "            queue = [nodes for node in queue for nodes in (node.left, node.right) if nodes]\n",
    "        return root"
   ]
  },
  {
   "cell_type": "markdown",
   "metadata": {},
   "source": [
    "## 260. Single Number III"
   ]
  },
  {
   "cell_type": "code",
   "execution_count": 417,
   "metadata": {},
   "outputs": [],
   "source": [
    "class Solution(object):\n",
    "    def singleNumber(self, nums):\n",
    "        \"\"\"\n",
    "        :type nums: List[int]\n",
    "        :rtype: List[int]\n",
    "        \"\"\"\n",
    "        ans = []\n",
    "        for n in set(nums):\n",
    "            ans.append(n)\n",
    "            ans.append(n)\n",
    "        for m in nums:\n",
    "            ans.remove(m)\n",
    "        return ans"
   ]
  },
  {
   "cell_type": "code",
   "execution_count": 418,
   "metadata": {},
   "outputs": [
    {
     "name": "stdout",
     "output_type": "stream",
     "text": [
      "[3, 5]\n"
     ]
    }
   ],
   "source": [
    "s = Solution()\n",
    "nums = [1, 2, 1, 3, 2, 5]\n",
    "a = s.singleNumber(nums)\n",
    "print(a)"
   ]
  },
  {
   "cell_type": "code",
   "execution_count": 414,
   "metadata": {},
   "outputs": [
    {
     "name": "stdout",
     "output_type": "stream",
     "text": [
      "[1, 1, 2, 2, 3, 3]\n"
     ]
    }
   ],
   "source": [
    "class Solution(object):\n",
    "    def singleNumber(self, nums):\n",
    "        \"\"\"\n",
    "        :type nums: List[int]\n",
    "        :rtype: List[int]\n",
    "        \"\"\"\n",
    "        ans = []\n",
    "        for i in nums:\n",
    "            if nums.count(i) == 1:\n",
    "                ans.append(i)\n",
    "        return ans"
   ]
  },
  {
   "cell_type": "code",
   "execution_count": 423,
   "metadata": {},
   "outputs": [
    {
     "name": "stdout",
     "output_type": "stream",
     "text": [
      "3\n"
     ]
    }
   ],
   "source": [
    "b = 2\n",
    "b ^= 1\n",
    "print(b)"
   ]
  },
  {
   "cell_type": "code",
   "execution_count": null,
   "metadata": {},
   "outputs": [],
   "source": [
    "class Solution(object):\n",
    "    def singleNumber(self, nums):\n",
    "        \"\"\"\n",
    "        :type nums: List[int]\n",
    "        :rtype: List[int]\n",
    "        \"\"\"\n",
    "        xor = 0\n",
    "        a = 0\n",
    "        b = 0\n",
    "        for num in nums:\n",
    "            xor ^= num\n",
    "        mask = 1\n",
    "        while(xor&mask == 0):\n",
    "            mask = mask << 1\n",
    "        for num in nums:\n",
    "            if num&mask:\n",
    "                a ^= num\n",
    "            else:\n",
    "                b ^= num\n",
    "        return [a, b]"
   ]
  }
 ],
 "metadata": {
  "kernelspec": {
   "display_name": "Python 3",
   "language": "python",
   "name": "python3"
  },
  "language_info": {
   "codemirror_mode": {
    "name": "ipython",
    "version": 3
   },
   "file_extension": ".py",
   "mimetype": "text/x-python",
   "name": "python",
   "nbconvert_exporter": "python",
   "pygments_lexer": "ipython3",
   "version": "3.5.4"
  }
 },
 "nbformat": 4,
 "nbformat_minor": 2
}
