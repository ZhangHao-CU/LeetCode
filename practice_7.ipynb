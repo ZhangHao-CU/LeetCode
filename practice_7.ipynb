{
 "cells": [
  {
   "cell_type": "markdown",
   "metadata": {},
   "source": [
    "## 349. Intersection of Two Arrays"
   ]
  },
  {
   "cell_type": "code",
   "execution_count": null,
   "metadata": {},
   "outputs": [],
   "source": [
    "class Solution:\n",
    "    def intersection(self, nums1, nums2):\n",
    "        A = set(nums2) - (set(nums1)-set(nums2))\n",
    "        B = set(nums1) - (set(nums1)-set(nums2))\n",
    "        if len(A) < len(B):\n",
    "            return list(A)\n",
    "        else:\n",
    "            return list(B)"
   ]
  },
  {
   "cell_type": "code",
   "execution_count": null,
   "metadata": {},
   "outputs": [],
   "source": [
    "class Solution:\n",
    "    def intersection(self, nums1, nums2):\n",
    "        return list(set([i for i in nums1 if i in nums2]))"
   ]
  },
  {
   "cell_type": "markdown",
   "metadata": {},
   "source": [
    "## 765 couples holding hands"
   ]
  },
  {
   "cell_type": "code",
   "execution_count": null,
   "metadata": {},
   "outputs": [],
   "source": []
  },
  {
   "cell_type": "markdown",
   "metadata": {},
   "source": [
    "## 781. Rabbits in Forest"
   ]
  },
  {
   "cell_type": "code",
   "execution_count": 4,
   "metadata": {},
   "outputs": [],
   "source": [
    "import collections\n",
    "class Solution:\n",
    "    def numRabbits(self, answers):\n",
    "        res = collections.Counter(answers)\n",
    "        ans = 0\n",
    "        for i in res:\n",
    "            while res[i] > i+1:\n",
    "                res[i]  = res[i] - i - 1\n",
    "                ans += i+1\n",
    "            ans += i+1\n",
    "        return ans\n",
    "        "
   ]
  },
  {
   "cell_type": "markdown",
   "metadata": {},
   "source": [
    "## 453. Minimum Moves to Equal Array Elements"
   ]
  },
  {
   "cell_type": "code",
   "execution_count": null,
   "metadata": {},
   "outputs": [],
   "source": [
    "class Solution:\n",
    "    def minMoves(self, nums):\n",
    "        if nums:\n",
    "            return sum(nums) - len(nums)*min(nums)"
   ]
  },
  {
   "cell_type": "markdown",
   "metadata": {},
   "source": [
    "## 503. Next Greater Element II"
   ]
  },
  {
   "cell_type": "code",
   "execution_count": 27,
   "metadata": {},
   "outputs": [
    {
     "ename": "TabError",
     "evalue": "inconsistent use of tabs and spaces in indentation (<ipython-input-27-538ad172c637>, line 6)",
     "output_type": "error",
     "traceback": [
      "\u001b[0;36m  File \u001b[0;32m\"<ipython-input-27-538ad172c637>\"\u001b[0;36m, line \u001b[0;32m6\u001b[0m\n\u001b[0;31m    while stackk and stackk[-1][1] < num:\u001b[0m\n\u001b[0m                                         ^\u001b[0m\n\u001b[0;31mTabError\u001b[0m\u001b[0;31m:\u001b[0m inconsistent use of tabs and spaces in indentation\n"
     ]
    }
   ],
   "source": [
    "def nextGreaterElements(self, nums):\n",
    "\tnums += nums\n",
    "\tres = [-1] * len(nums)\n",
    "\tstackk = []\n",
    "\tfor i, num in enumerate(nums):\n",
    "        while stackk and stackk[-1][1] < num:\n",
    "            index = stackk.pop()[0]\n",
    "            res[index] = num\n",
    "\t\tstackk.append((i,num))\n",
    "\treturn res[:len(nums)/2]"
   ]
  },
  {
   "cell_type": "code",
   "execution_count": 16,
   "metadata": {},
   "outputs": [
    {
     "name": "stdout",
     "output_type": "stream",
     "text": [
      "[False, False, False]\n",
      "0\n",
      "0\n",
      "1\n",
      "2\n",
      "[True, False, False]\n",
      "1\n",
      "1\n",
      "2\n",
      "[True, False, False]\n",
      "2\n",
      "2\n",
      "[2, -1, -1]\n"
     ]
    }
   ],
   "source": [
    "s = Solution()\n",
    "a = s.nextGreaterElements([1,2,1])\n",
    "print(a)"
   ]
  },
  {
   "cell_type": "code",
   "execution_count": 25,
   "metadata": {},
   "outputs": [],
   "source": [
    "class Solution:\n",
    "    def nextGreaterElements(self, nums):\n",
    "        N = len(nums)\n",
    "        ans = [-1]*N\n",
    "        res = [False]*N\n",
    "        for i in range(N):\n",
    "            if res[i] is False:\n",
    "                j = i + 1\n",
    "                tmp = i\n",
    "                while j < i+N:\n",
    "                    if nums[j%N] > nums[tmp]:\n",
    "                        ans[tmp] = nums[j%N]\n",
    "                        res[tmp] = True\n",
    "                        tmp = j%N\n",
    "                    j += 1\n",
    "        return ans"
   ]
  },
  {
   "cell_type": "code",
   "execution_count": 26,
   "metadata": {},
   "outputs": [
    {
     "name": "stdout",
     "output_type": "stream",
     "text": [
      "[4, 4, 6, 6, -1]\n"
     ]
    }
   ],
   "source": [
    "s = Solution()\n",
    "a = s.nextGreaterElements([1,1,4,2,6])\n",
    "print(a)"
   ]
  },
  {
   "cell_type": "code",
   "execution_count": 28,
   "metadata": {},
   "outputs": [],
   "source": [
    "class Solution:\n",
    "    def canConstruct(self, ransomNote, magazine):\n",
    "        \"\"\"\n",
    "        :type ransomNote: str\n",
    "        :type magazine: str\n",
    "        :rtype: bool\n",
    "        \"\"\"\n",
    "        rr = list(ransomNote)\n",
    "        mm = list(magazine)\n",
    "        res = [ch for ch in rr if ch in mm]\n",
    "        return res is rr"
   ]
  },
  {
   "cell_type": "code",
   "execution_count": 31,
   "metadata": {},
   "outputs": [
    {
     "name": "stdout",
     "output_type": "stream",
     "text": [
      "['a', 'a', 'b', 'v']\n"
     ]
    }
   ],
   "source": [
    "print(list(\"aabv\"))"
   ]
  },
  {
   "cell_type": "markdown",
   "metadata": {},
   "source": [
    "## "
   ]
  },
  {
   "cell_type": "code",
   "execution_count": 38,
   "metadata": {},
   "outputs": [],
   "source": [
    "class Solution:\n",
    "    def fourSumCount(self, A, B, C, D):\n",
    "        \"\"\"\n",
    "        :type A: List[int]\n",
    "        :type B: List[int]\n",
    "        :type C: List[int]\n",
    "        :type D: List[int]\n",
    "        :rtype: int\n",
    "        \"\"\"\n",
    "        N = len(A)\n",
    "        \n",
    "        AB = [0]*(N**2)\n",
    "        CD = [0]*(N**2)\n",
    "        \n",
    "        i = 0\n",
    "        for a in A:\n",
    "            for b in B:\n",
    "                AB[i] = a+b\n",
    "                i += 1\n",
    "        AB = sorted(AB)\n",
    "        j = 0\n",
    "        for c in C:\n",
    "            for d in D:\n",
    "                CD[j] = c+d\n",
    "                j+=1\n",
    "        CD = sorted(CD)\n",
    "        return self.findAllCombo(AB,CD,0)\n",
    "            \n",
    "        \n",
    "        \n",
    "    def findAllCombo(self, A, B, s):\n",
    "        ans = 0\n",
    "        j = len(B)-1\n",
    "        for i in range(len(A)):\n",
    "            print(A[i])\n",
    "            while B[j] + A[i] > s and j > -1:\n",
    "                j -= 1\n",
    "            if B[j] + A[i] is s:\n",
    "                print(A[i],B[j])\n",
    "                ans += B.count(B[j])\n",
    "            if j is -1:\n",
    "                break\n",
    "        return ans"
   ]
  },
  {
   "cell_type": "code",
   "execution_count": 39,
   "metadata": {},
   "outputs": [
    {
     "name": "stdout",
     "output_type": "stream",
     "text": [
      "-2\n",
      "-2 2\n",
      "-2\n",
      "-2 2\n",
      "0\n",
      "0 0\n",
      "0\n",
      "0 0\n",
      "6\n"
     ]
    }
   ],
   "source": [
    "s = Solution()\n",
    "a = s.fourSumCount([-1,-1],[-1,1],[-1,1],[1,-1])\n",
    "print(a)"
   ]
  },
  {
   "cell_type": "code",
   "execution_count": 40,
   "metadata": {},
   "outputs": [
    {
     "name": "stdout",
     "output_type": "stream",
     "text": [
      "3\n"
     ]
    }
   ],
   "source": [
    "print(len(set([1,2,3,3])))"
   ]
  },
  {
   "cell_type": "code",
   "execution_count": null,
   "metadata": {},
   "outputs": [],
   "source": []
  }
 ],
 "metadata": {
  "kernelspec": {
   "display_name": "Python 3",
   "language": "python",
   "name": "python3"
  },
  "language_info": {
   "codemirror_mode": {
    "name": "ipython",
    "version": 3
   },
   "file_extension": ".py",
   "mimetype": "text/x-python",
   "name": "python",
   "nbconvert_exporter": "python",
   "pygments_lexer": "ipython3",
   "version": "3.5.4"
  }
 },
 "nbformat": 4,
 "nbformat_minor": 2
}
