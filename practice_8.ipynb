{
 "cells": [
  {
   "cell_type": "markdown",
   "metadata": {},
   "source": [
    "## 733. Flood Fill"
   ]
  },
  {
   "cell_type": "code",
   "execution_count": 15,
   "metadata": {},
   "outputs": [],
   "source": [
    "class Solution:\n",
    "    def floodFill(self, image, sr, sc, newColor):\n",
    "        \"\"\"\n",
    "        :type image: List[List[int]]\n",
    "        :type sr: int\n",
    "        :type sc: int\n",
    "        :type newColor: int\n",
    "        :rtype: List[List[int]]\n",
    "        \"\"\"\n",
    "        if not image:\n",
    "            return image\n",
    "        curColor = image[sr][sc]\n",
    "        return  self.colorFill(image,sr,sc,newColor,curColor)\n",
    "        \n",
    "    def colorFill(self, image, x, y, newColor,curColor):\n",
    "        if image[x][y] is not curColor:\n",
    "            return image\n",
    "        if image[x][y] is newColor:\n",
    "            return image\n",
    "        image[x][y] = newColor\n",
    "        if x+1 < len(image):\n",
    "            image = self.colorFill(image,x+1,y,newColor,curColor)\n",
    "        if x-1 > -1:\n",
    "            image = self.colorFill(image,x-1,y,newColor,curColor)\n",
    "        if y+1 < len(image[0]):\n",
    "            image = self.colorFill(image,x,y+1,newColor,curColor)\n",
    "        if y-1 > -1:\n",
    "            image = self.colorFill(image,x,y-1,newColor,curColor)\n",
    "        return image"
   ]
  },
  {
   "cell_type": "code",
   "execution_count": 16,
   "metadata": {},
   "outputs": [
    {
     "name": "stdout",
     "output_type": "stream",
     "text": [
      "[[0, 0, 0], [0, 1, 1]]\n"
     ]
    }
   ],
   "source": [
    "s = Solution()\n",
    "a = s.floodFill([[0,0,0],[0,1,1]],1,1,1)\n",
    "print(a)"
   ]
  },
  {
   "cell_type": "markdown",
   "metadata": {},
   "source": [
    "## 242. Valid Anagram"
   ]
  },
  {
   "cell_type": "code",
   "execution_count": 22,
   "metadata": {},
   "outputs": [],
   "source": [
    "import collections\n",
    "class Solution:\n",
    "    def isAnagram(self, s, t):\n",
    "        countS = collections.Counter(s)\n",
    "        countT = collections.Counter(t)\n",
    "        return countS == countT"
   ]
  },
  {
   "cell_type": "code",
   "execution_count": 21,
   "metadata": {},
   "outputs": [
    {
     "name": "stdout",
     "output_type": "stream",
     "text": [
      "4\n"
     ]
    }
   ],
   "source": [
    "a = \"abdaas\"\n",
    "b = collections.Counter(a)\n",
    "print(len(b))"
   ]
  },
  {
   "cell_type": "markdown",
   "metadata": {},
   "source": [
    "## 506. Relative Ranks"
   ]
  },
  {
   "cell_type": "code",
   "execution_count": 25,
   "metadata": {},
   "outputs": [],
   "source": [
    "class Solution:\n",
    "    def findRelativeRanks(self, nums):\n",
    "        out = [None] * len(nums)\n",
    "        dic = {}\n",
    "        \n",
    "        for index, num in enumerate(nums):\n",
    "            dic[num] = index \n",
    "        \n",
    "        nums.sort(reverse = True)\n",
    "        for i in range(len(nums)):\n",
    "            if i == 0:\n",
    "                out[dic[nums[i]]] = \"Gold Medal\"\n",
    "            elif i == 1:\n",
    "                out[dic[nums[i]]] = \"Silver Medal\"\n",
    "            elif i == 2:\n",
    "                out[dic[nums[i]]] = \"Bronze Medal\" \n",
    "            else:\n",
    "                out[dic[nums[i]]] = str(i + 1)\n",
    "        return out"
   ]
  },
  {
   "cell_type": "code",
   "execution_count": 27,
   "metadata": {},
   "outputs": [
    {
     "name": "stdout",
     "output_type": "stream",
     "text": [
      "abd\n"
     ]
    }
   ],
   "source": [
    "a = ['abd','aenife','jdifne']\n",
    "print(min(a))"
   ]
  },
  {
   "cell_type": "code",
   "execution_count": null,
   "metadata": {},
   "outputs": [],
   "source": []
  }
 ],
 "metadata": {
  "kernelspec": {
   "display_name": "Python 3",
   "language": "python",
   "name": "python3"
  },
  "language_info": {
   "codemirror_mode": {
    "name": "ipython",
    "version": 3
   },
   "file_extension": ".py",
   "mimetype": "text/x-python",
   "name": "python",
   "nbconvert_exporter": "python",
   "pygments_lexer": "ipython3",
   "version": "3.5.4"
  }
 },
 "nbformat": 4,
 "nbformat_minor": 2
}
