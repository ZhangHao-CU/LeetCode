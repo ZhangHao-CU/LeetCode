{
 "cells": [
  {
   "cell_type": "code",
   "execution_count": 5,
   "metadata": {},
   "outputs": [],
   "source": [
    "def knapSack(W , wt , val , n):\n",
    " \n",
    "    # Base Case\n",
    "    if n == 0 or W == 0 :\n",
    "        return 0\n",
    " \n",
    "    # If weight of the nth item is more than Knapsack of capacity\n",
    "    # W, then this item cannot be included in the optimal solution\n",
    "    if (wt[n-1] > W):\n",
    "        return knapSack(W , wt , val , n-1)\n",
    " \n",
    "    # return the maximum of two cases:\n",
    "    # (1) nth item included\n",
    "    # (2) not included\n",
    "    else:\n",
    "        return max(val[n-1] + knapSack(W-wt[n-1] , wt , val , n-1),\n",
    "                   knapSack(W , wt , val , n-1))"
   ]
  },
  {
   "cell_type": "code",
   "execution_count": 6,
   "metadata": {},
   "outputs": [
    {
     "name": "stdout",
     "output_type": "stream",
     "text": [
      "720\n"
     ]
    }
   ],
   "source": [
    "val = [600, 100, 120]\n",
    "wt = [10, 20, 30]\n",
    "W = 50\n",
    "n = len(val)\n",
    "print(knapSack(W , wt , val , n))"
   ]
  },
  {
   "cell_type": "code",
   "execution_count": 16,
   "metadata": {},
   "outputs": [
    {
     "name": "stdout",
     "output_type": "stream",
     "text": [
      "no\n"
     ]
    }
   ],
   "source": [
    "i = 4\n",
    "if i in range(2,4):\n",
    "    print('yes')\n",
    "else:\n",
    "    print('no')"
   ]
  },
  {
   "cell_type": "markdown",
   "metadata": {},
   "source": [
    "## movie rating"
   ]
  },
  {
   "cell_type": "code",
   "execution_count": 25,
   "metadata": {},
   "outputs": [],
   "source": [
    "def movieRating(ratings):\n",
    "    if not ratings:\n",
    "        return 0\n",
    "    avoid = 0\n",
    "    using = ratings[0]\n",
    "    for i in range(1,len(ratings)):\n",
    "        avoid, using = using, ratings[i] + max(avoid,using)\n",
    "    return max(avoid,using)"
   ]
  },
  {
   "cell_type": "code",
   "execution_count": 26,
   "metadata": {},
   "outputs": [
    {
     "name": "stdout",
     "output_type": "stream",
     "text": [
      "10\n"
     ]
    }
   ],
   "source": [
    "a = [-9,1,-3,4,5]\n",
    "print(movieRating(a))"
   ]
  },
  {
   "cell_type": "code",
   "execution_count": 28,
   "metadata": {},
   "outputs": [
    {
     "name": "stdout",
     "output_type": "stream",
     "text": [
      "<http.client.HTTPResponse object at 0x10f6ce438>\n"
     ]
    }
   ],
   "source": [
    "import urllib\n",
    "url = 'https://jsonmock.hackerrank.com/api/movies/search/?Title=spiderman&page=1'\n",
    "print(urllib.request.urlopen(url))"
   ]
  },
  {
   "cell_type": "code",
   "execution_count": 52,
   "metadata": {},
   "outputs": [
    {
     "name": "stdout",
     "output_type": "stream",
     "text": [
      "{\"page\":\"1\",\"per_page\":10,\"total\":13,\"total_pages\":2,\"data\":[{\"Poster\":\"https://images-na.ssl-images-amazon.com/images/M/MV5BYjFhN2RjZTctMzA2Ni00NzE2LWJmYjMtNDAyYTllOTkyMmY3XkEyXkFqcGdeQXVyNTA0OTU0OTQ@._V1_SX300.jpg\",\"Title\":\"Italian Spiderman\",\"Type\":\"movie\",\"Year\":2007,\"imdbID\":\"tt2705436\"},{\"Poster\":\"https://images-na.ssl-images-amazon.com/images/M/MV5BMjQ4MzcxNDU3N15BMl5BanBnXkFtZTgwOTE1MzMxNzE@._V1_SX300.jpg\",\"Title\":\"Superman, Spiderman or Batman\",\"Type\":\"movie\",\"Year\":2011,\"imdbID\":\"tt2084949\"},{\"Poster\":\"N/A\",\"Title\":\"Spiderman\",\"Type\":\"movie\",\"Year\":1990,\"imdbID\":\"tt0100669\"},{\"Poster\":\"N/A\",\"Title\":\"Spiderman\",\"Type\":\"movie\",\"Year\":2010,\"imdbID\":\"tt1785572\"},{\"Poster\":\"N/A\",\"Title\":\"Fighting, Flying and Driving: The Stunts of Spiderman 3\",\"Type\":\"movie\",\"Year\":2007,\"imdbID\":\"tt1132238\"},{\"Poster\":\"http://ia.media-imdb.com/images/M/MV5BMjE3Mzg0MjAxMl5BMl5BanBnXkFtZTcwNjIyODg5Mg@@._V1_SX300.jpg\",\"Title\":\"Spiderman and Grandma\",\"Type\":\"movie\",\"Year\":2009,\"imdbID\":\"tt1433184\"},{\"Poster\":\"N/A\",\"Title\":\"The Amazing Spiderman T4 Premiere Special\",\"Type\":\"movie\",\"Year\":2012,\"imdbID\":\"tt2233044\"},{\"Poster\":\"N/A\",\"Title\":\"Amazing Spiderman Syndrome\",\"Type\":\"movie\",\"Year\":2012,\"imdbID\":\"tt2586634\"},{\"Poster\":\"N/A\",\"Title\":\"Hollywood's Master Storytellers: Spiderman Live\",\"Type\":\"movie\",\"Year\":2006,\"imdbID\":\"tt2158533\"},{\"Poster\":\"N/A\",\"Title\":\"Spiderman 5\",\"Type\":\"movie\",\"Year\":2008,\"imdbID\":\"tt3696826\"}]}\n",
      "<class 'dict'>\n"
     ]
    }
   ],
   "source": [
    "#req = urllib.request.Request(url)\n",
    "import json\n",
    "with urllib.request.urlopen(url) as response:\n",
    "    the_page = response.read()\n",
    "string = the_page.decode('utf-8')\n",
    "print(string)\n",
    "j = json.loads(string)\n",
    "print(j['data'][0])\n"
   ]
  },
  {
   "cell_type": "code",
   "execution_count": 53,
   "metadata": {},
   "outputs": [],
   "source": [
    "for i in range(1,1):\n",
    "    print(i)"
   ]
  },
  {
   "cell_type": "code",
   "execution_count": 54,
   "metadata": {},
   "outputs": [
    {
     "name": "stdout",
     "output_type": "stream",
     "text": [
      "['a', 'abc', 'b', 'cde', 'dsfs']\n"
     ]
    }
   ],
   "source": [
    "a = ['a','b','dsfs','cde','abc']\n",
    "print(sorted(a))"
   ]
  },
  {
   "cell_type": "code",
   "execution_count": 55,
   "metadata": {},
   "outputs": [
    {
     "name": "stdout",
     "output_type": "stream",
     "text": [
      "{0.03: -0.0298, 0.02: -0.02}\n",
      "-0.02\n"
     ]
    }
   ],
   "source": [
    "order = [0.03, 0.02]\n",
    "val = [-0.0298,-0.02]\n",
    "dic = {}\n",
    "for i in range(len(order)):\n",
    "    dic[order[i]] = val[i]\n",
    "print(dic)\n",
    "print(dic[sorted(order,reverse = True)[2-1]])"
   ]
  },
  {
   "cell_type": "code",
   "execution_count": null,
   "metadata": {},
   "outputs": [],
   "source": []
  }
 ],
 "metadata": {
  "kernelspec": {
   "display_name": "Python 3",
   "language": "python",
   "name": "python3"
  },
  "language_info": {
   "codemirror_mode": {
    "name": "ipython",
    "version": 3
   },
   "file_extension": ".py",
   "mimetype": "text/x-python",
   "name": "python",
   "nbconvert_exporter": "python",
   "pygments_lexer": "ipython3",
   "version": "3.5.4"
  }
 },
 "nbformat": 4,
 "nbformat_minor": 2
}
