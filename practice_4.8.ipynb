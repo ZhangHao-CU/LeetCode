{
 "cells": [
  {
   "cell_type": "markdown",
   "metadata": {},
   "source": [
    "## 725. Split Linked List in Parts"
   ]
  },
  {
   "cell_type": "code",
   "execution_count": 3,
   "metadata": {},
   "outputs": [],
   "source": [
    "# Definition for singly-linked list.\n",
    "# class ListNode:\n",
    "#     def __init__(self, x):\n",
    "#         self.val = x\n",
    "#         self.next = None\n",
    "\n",
    "class Solution:\n",
    "    def splitListToParts(self, root, k):\n",
    "        \"\"\"\n",
    "        :type root: ListNode\n",
    "        :type k: int\n",
    "        :rtype: List[ListNode]\n",
    "        \"\"\"\n",
    "        ans = []\n",
    "        tmp = root\n",
    "        num = 0\n",
    "        while tmp:\n",
    "            tmp = tmp.next\n",
    "            num += 1\n",
    "        group_size = num // k\n",
    "        res = num % k\n",
    "        tmp = root\n",
    "        for i in range(k):\n",
    "            ans.append([])\n",
    "            if i < res:\n",
    "                count = group_size + 1\n",
    "            else:\n",
    "                count = group_size\n",
    "            for j in range(count):\n",
    "                ans[-1].append(tmp.val)\n",
    "                tmp = tmp.next\n",
    "        return ans"
   ]
  },
  {
   "cell_type": "markdown",
   "metadata": {},
   "source": [
    "## 455. Assign Cookies"
   ]
  },
  {
   "cell_type": "code",
   "execution_count": 8,
   "metadata": {},
   "outputs": [],
   "source": [
    "class Solution:\n",
    "    def findContentChildren(self, g, s):\n",
    "        \"\"\"\n",
    "        :type g: List[int]\n",
    "        :type s: List[int]\n",
    "        :rtype: int\n",
    "        \"\"\"\n",
    "        if not g or not s:\n",
    "            return 0\n",
    "        g = sorted(g)\n",
    "        s = sorted(s)\n",
    "        glen = len(g)\n",
    "        slen = len(s)\n",
    "        i = 0\n",
    "        j = 0\n",
    "        ans = 0\n",
    "        while i < glen:\n",
    "            while j < slen and s[j] < g[i]:\n",
    "                j += 1\n",
    "            if j >= slen:\n",
    "                break\n",
    "            ans += 1\n",
    "            j += 1\n",
    "            i += 1\n",
    "        return ans"
   ]
  },
  {
   "cell_type": "markdown",
   "metadata": {},
   "source": [
    "### other solutions"
   ]
  },
  {
   "cell_type": "code",
   "execution_count": 13,
   "metadata": {},
   "outputs": [],
   "source": [
    "\n",
    "class Solution(object):\n",
    "    def findContentChildren(self, g, s):\n",
    "        \"\"\"\n",
    "        :type g: List[int]\n",
    "        :type s: List[int]\n",
    "        :rtype: int\n",
    "        \"\"\"\n",
    "        g.sort()\n",
    "        s.sort()\n",
    "        \n",
    "        childi = 0\n",
    "        cookiei = 0\n",
    "        \n",
    "        while cookiei < len(s) and childi < len(g):\n",
    "            if s[cookiei] >= g[childi]:\n",
    "                childi += 1\n",
    "            cookiei += 1\n",
    "        \n",
    "        return childi"
   ]
  },
  {
   "cell_type": "code",
   "execution_count": 14,
   "metadata": {},
   "outputs": [],
   "source": [
    "def findContentChildren(self, g, s):\n",
    "    g.sort()\n",
    "    s.sort()\n",
    "    res = 0\n",
    "    i = 0\n",
    "    for e in s:\n",
    "        if i == len(g):\n",
    "            break\n",
    "        if e >= g[i]:\n",
    "            res += 1\n",
    "            i += 1\n",
    "    return res"
   ]
  },
  {
   "cell_type": "markdown",
   "metadata": {},
   "source": [
    "## 216. Combination Sum III"
   ]
  },
  {
   "cell_type": "code",
   "execution_count": 17,
   "metadata": {},
   "outputs": [],
   "source": [
    "class Solution:\n",
    "    def combinationSum3(self, k, n):\n",
    "        ans = []\n",
    "        if k is 1:\n",
    "            if n > 0 and n < 10:\n",
    "                ans.append(n)\n",
    "            return ans\n",
    "        ans = self.combinationSum2(k, n, 9)\n",
    "        return ans\n",
    "    def combinationSum2(self, k, n, top):\n",
    "        ans = []\n",
    "        if top < 2:\n",
    "            return ans\n",
    "        if k is 2:\n",
    "            if n < 3 or n > 2*top - 1:\n",
    "                return ans\n",
    "            for i in range(1, top+1):\n",
    "                for j in range(i+1, top+1):\n",
    "                    if n is i+j:\n",
    "                        ans.append([i,j])\n",
    "            return ans\n",
    "        j = 0\n",
    "        while n > k:\n",
    "            n -= k\n",
    "            j += 1\n",
    "            res = self.combinationSum2(k-1, n, top-j)\n",
    "            for item in res:\n",
    "                tmp = [0] + item\n",
    "                tmp = [p+j for p in tmp]\n",
    "                ans.append(tmp)\n",
    "        return ans"
   ]
  },
  {
   "cell_type": "markdown",
   "metadata": {},
   "source": [
    "## backtracking"
   ]
  },
  {
   "cell_type": "code",
   "execution_count": null,
   "metadata": {},
   "outputs": [],
   "source": [
    "def combinationSum3(self, k, n):\n",
    "    res = []\n",
    "    self.dfs(xrange(1,10), k, n, 0, [], res)\n",
    "    return res\n",
    "    \n",
    "def dfs(self, nums, k, n, index, path, res):\n",
    "    if k < 0 or n < 0: # backtracking \n",
    "        return \n",
    "    if k == 0 and n == 0: \n",
    "        res.append(path)\n",
    "    for i in xrange(index, len(nums)):\n",
    "        self.dfs(nums, k-1, n-nums[i], i+1, path+[nums[i]], res)"
   ]
  },
  {
   "cell_type": "markdown",
   "metadata": {},
   "source": [
    "## 563. Binary Tree Tilt"
   ]
  },
  {
   "cell_type": "code",
   "execution_count": 18,
   "metadata": {},
   "outputs": [],
   "source": [
    "# Definition for a binary tree node.\n",
    "# class TreeNode:\n",
    "#     def __init__(self, x):\n",
    "#         self.val = x\n",
    "#         self.left = None\n",
    "#         self.right = None\n",
    "\n",
    "class Solution:\n",
    "    def findTilt(self, root):\n",
    "        \"\"\"\n",
    "        :type root: TreeNode\n",
    "        :rtype: int\n",
    "        \"\"\"\n",
    "        if not root:\n",
    "            return 0\n",
    "        ans = self.dfs(root, 0)\n",
    "        return ans\n",
    "    def dfs(self, root, ans):\n",
    "        if not root.left and not root.right:\n",
    "            return ans\n",
    "        if root.left:\n",
    "            ans = self.dfs(root.left, ans)\n",
    "        if root.right:\n",
    "            ans = self.dfs(root.right, ans)\n",
    "        if not root.left:\n",
    "            ans += abs(root.right.val)\n",
    "            root.val += root.right.val\n",
    "        elif not root.right:\n",
    "            ans += abs(root.left.val)\n",
    "            root.val += root.left.val\n",
    "        else:\n",
    "            ans += abs(root.left.val - root.right.val)\n",
    "            root.val += root.left.val + root.right.val\n",
    "        return ans"
   ]
  },
  {
   "cell_type": "markdown",
   "metadata": {},
   "source": [
    "## 783. Minimum Distance Between BST Nodes"
   ]
  },
  {
   "cell_type": "code",
   "execution_count": null,
   "metadata": {},
   "outputs": [],
   "source": [
    "class Solution(object):\n",
    "    pre = -float('inf')\n",
    "    res = float('inf')\n",
    "\n",
    "    def minDiffInBST(self, root):\n",
    "        if root.left:\n",
    "            self.minDiffInBST(root.left)\n",
    "        self.res = min(self.res, root.val - self.pre)\n",
    "        print(self.res)\n",
    "        self.pre = root.val\n",
    "        print(self.pre)\n",
    "        if root.right:\n",
    "            self.minDiffInBST(root.right)\n",
    "        return self.res"
   ]
  }
 ],
 "metadata": {
  "kernelspec": {
   "display_name": "Python 3",
   "language": "python",
   "name": "python3"
  },
  "language_info": {
   "codemirror_mode": {
    "name": "ipython",
    "version": 3
   },
   "file_extension": ".py",
   "mimetype": "text/x-python",
   "name": "python",
   "nbconvert_exporter": "python",
   "pygments_lexer": "ipython3",
   "version": "3.5.4"
  }
 },
 "nbformat": 4,
 "nbformat_minor": 2
}
