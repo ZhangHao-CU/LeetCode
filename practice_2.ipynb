{
 "cells": [
  {
   "cell_type": "markdown",
   "metadata": {},
   "source": [
    "## 508. Most Frequent Subtree Sum"
   ]
  },
  {
   "cell_type": "code",
   "execution_count": 22,
   "metadata": {},
   "outputs": [],
   "source": [
    "# Definition for a binary tree node.\n",
    "# class TreeNode(object):\n",
    "#     def __init__(self, x):\n",
    "#         self.val = x\n",
    "#         self.left = None\n",
    "#         self.right = None\n",
    "\n",
    "class Solution(object):\n",
    "    def findFrequentTreeSum(self, root):\n",
    "        \"\"\"\n",
    "        :type root: TreeNode\n",
    "        :rtype: List[int]\n",
    "        \"\"\"\n",
    "        subtreeSum = []\n",
    "        def dfs(root, subsum):\n",
    "            if not root:\n",
    "                return 0\n",
    "            s=0\n",
    "            s = root.val + dfs(root.left, subsum) + dfs(root.right, subsum)\n",
    "            subsum.append(s)\n",
    "            return s\n",
    "        dfs(root, subtreeSum)\n",
    "        ans = [a for a in set(subtreeSum) if subtreeSum.count(a) == subtreeSum.count(max(subtreeSum, key = subtreeSum.count))]\n",
    "        return ans"
   ]
  },
  {
   "cell_type": "code",
   "execution_count": 21,
   "metadata": {},
   "outputs": [],
   "source": [
    "# Definition for a binary tree node.\n",
    "# class TreeNode(object):\n",
    "#     def __init__(self, x):\n",
    "#         self.val = x\n",
    "#         self.left = None\n",
    "#         self.right = None\n",
    "\n",
    "class Solution(object):\n",
    "    def findFrequentTreeSum(self, root):\n",
    "        \"\"\"\n",
    "        :type root: TreeNode\n",
    "        :rtype: List[int]\n",
    "        \"\"\"\n",
    "        dic = {}\n",
    "        self.subSum(root, dic)\n",
    "        m = 0\n",
    "        res = set()\n",
    "        #print dic\n",
    "        for k in dic:\n",
    "            if dic[k] > m:\n",
    "                m = dic[k]\n",
    "                res = set()\n",
    "                res.add(k)\n",
    "            if dic[k] == m:\n",
    "                res.add(k) \n",
    "        return list(res)\n",
    "        \n",
    "        \n",
    "    \n",
    "    def subSum(self, root, dic):\n",
    "        if not root:\n",
    "            return 0\n",
    "        s = 0\n",
    "        if root.left:\n",
    "            s += self.subSum(root.left, dic)\n",
    "        if root.right:\n",
    "            s += self.subSum(root.right, dic)\n",
    "        s += root.val\n",
    "        if s not in dic:\n",
    "            dic[s] = 1\n",
    "        else:\n",
    "            dic[s] += 1\n",
    "        return s"
   ]
  },
  {
   "cell_type": "markdown",
   "metadata": {},
   "source": [
    "## 690. Employee Importance"
   ]
  },
  {
   "cell_type": "code",
   "execution_count": 35,
   "metadata": {},
   "outputs": [],
   "source": [
    "\"\"\"\n",
    "# Employee info\n",
    "class Employee(object):\n",
    "    def __init__(self, id, importance, subordinates):\n",
    "        # It's the unique id of each node.\n",
    "        # unique id of this employee\n",
    "        self.id = id\n",
    "        # the importance value of this employee\n",
    "        self.importance = importance\n",
    "        # the id of direct subordinates\n",
    "        self.subordinates = subordinates\n",
    "\"\"\"\n",
    "class Solution(object):\n",
    "    def getImportance(self, employees, id):\n",
    "        \"\"\"\n",
    "        :type employees: Employee\n",
    "        :type id: int\n",
    "        :rtype: int\n",
    "        \"\"\"\n",
    "        ans = 0\n",
    "        subor = [id]\n",
    "        if not employees:\n",
    "            return 0\n",
    "        while subor:\n",
    "            tempSubor = []\n",
    "            for employee in employees:\n",
    "                if employee.id in subor:\n",
    "                    ans += employee.importance\n",
    "                    tempSubor.append(employee.subordinates)\n",
    "            subor = [i for node in tempSubor for i in node]\n",
    "        return ans"
   ]
  },
  {
   "cell_type": "code",
   "execution_count": 34,
   "metadata": {},
   "outputs": [
    {
     "name": "stdout",
     "output_type": "stream",
     "text": [
      "[2, [1, 2]]\n"
     ]
    }
   ],
   "source": [
    "class Solution(object):\n",
    "    def getImportance(self, employees, query_id):\n",
    "        emap = {e.id: e for e in employees}\n",
    "        def dfs(eid):\n",
    "            employee = emap[eid]\n",
    "            return (employee.importance +\n",
    "                    sum(dfs(eid) for eid in employee.subordinates))\n",
    "        return dfs(query_id)"
   ]
  },
  {
   "cell_type": "markdown",
   "metadata": {},
   "source": [
    "## 609. Find Duplicate File in System"
   ]
  },
  {
   "cell_type": "code",
   "execution_count": 67,
   "metadata": {},
   "outputs": [],
   "source": [
    "class Solution(object):\n",
    "    def findDuplicate(self, paths):\n",
    "        \"\"\"\n",
    "        :type paths: List[str]\n",
    "        :rtype: List[List[str]]\n",
    "        \"\"\"\n",
    "        if not paths:\n",
    "            return []\n",
    "        files = []\n",
    "        dic = {}\n",
    "        ans = []\n",
    "        for path in paths:\n",
    "            tmp = path.split(' ')\n",
    "            for i in range(1,len(tmp)):\n",
    "                files.append(tmp[0]+ '/' +tmp[i])\n",
    "        for file in files:\n",
    "            content = file.split('(')[1]\n",
    "            if content in dic:\n",
    "                dic[content].append(file.split('(')[0])\n",
    "            else:\n",
    "                dic[content] = [file.split('(')[0]]\n",
    "        for d in dic:\n",
    "            if len(dic[d]) > 1:\n",
    "                ans.append(dic[d])\n",
    "        return ans"
   ]
  },
  {
   "cell_type": "markdown",
   "metadata": {},
   "source": [
    "## 677. Map Sum Pairs"
   ]
  },
  {
   "cell_type": "code",
   "execution_count": null,
   "metadata": {},
   "outputs": [],
   "source": [
    "class MapSum(object):\n",
    "\n",
    "    def __init__(self):\n",
    "        \"\"\"\n",
    "        Initialize your data structure here.\n",
    "        \"\"\"\n",
    "        self.dic = {}\n",
    "        \n",
    "\n",
    "    def insert(self, key, val):\n",
    "        \"\"\"\n",
    "        :type key: str\n",
    "        :type val: int\n",
    "        :rtype: void\n",
    "        \"\"\"\n",
    "        if key and val:\n",
    "            self.dic[key] = val\n",
    "\n",
    "    def sum(self, prefix):\n",
    "        \"\"\"\n",
    "        :type prefix: str\n",
    "        :rtype: int\n",
    "        \"\"\"\n",
    "        ans = 0\n",
    "        N = len(prefix)\n",
    "        for key in self.dic:\n",
    "            if key[:N] == prefix:\n",
    "                ans += self.dic[key]\n",
    "        return ans\n",
    "\n",
    "\n",
    "# Your MapSum object will be instantiated and called as such:\n",
    "# obj = MapSum()\n",
    "# obj.insert(key,val)\n",
    "# param_2 = obj.sum(prefix)"
   ]
  },
  {
   "cell_type": "code",
   "execution_count": 69,
   "metadata": {},
   "outputs": [
    {
     "name": "stdout",
     "output_type": "stream",
     "text": [
      "ab\n"
     ]
    }
   ],
   "source": [
    "a = \"abcd\"\n",
    "print(a[:2])"
   ]
  },
  {
   "cell_type": "code",
   "execution_count": null,
   "metadata": {},
   "outputs": [],
   "source": [
    "class MapSum(object):\n",
    "    def __init__(self):\n",
    "        self.map = {}\n",
    "\n",
    "    def insert(self, key, val):\n",
    "        self.map[key] = val\n",
    "\n",
    "    def sum(self, prefix):\n",
    "        return sum(val for key, val in self.map.items()\n",
    "                   if key.startswith(prefix))"
   ]
  },
  {
   "cell_type": "code",
   "execution_count": 72,
   "metadata": {},
   "outputs": [
    {
     "name": "stdout",
     "output_type": "stream",
     "text": [
      "2\n"
     ]
    }
   ],
   "source": [
    "a = {'b':1,'c':2}\n",
    "q=a.get('c',0)\n",
    "print(q)"
   ]
  },
  {
   "cell_type": "markdown",
   "metadata": {},
   "source": [
    "## 520. Detect Capital"
   ]
  },
  {
   "cell_type": "code",
   "execution_count": 81,
   "metadata": {},
   "outputs": [],
   "source": [
    "class Solution(object):\n",
    "    def detectCapitalUse(self, word):\n",
    "        \"\"\"\n",
    "        :type word: str\n",
    "        :rtype: bool\n",
    "        \"\"\"\n",
    "        return word.islower() or word.isupper() or word[1:].islower()"
   ]
  },
  {
   "cell_type": "code",
   "execution_count": 84,
   "metadata": {},
   "outputs": [
    {
     "name": "stdout",
     "output_type": "stream",
     "text": [
      "False\n"
     ]
    }
   ],
   "source": [
    "s = Solution()\n",
    "a = s.detectCapitalUse(\"AnAdfa\")\n",
    "print(a)"
   ]
  },
  {
   "cell_type": "markdown",
   "metadata": {},
   "source": [
    "## 462. Minimum Moves to Equal Array Elements II"
   ]
  },
  {
   "cell_type": "code",
   "execution_count": 114,
   "metadata": {},
   "outputs": [],
   "source": [
    "class Solution(object):\n",
    "    def minMoves2(self, nums):\n",
    "        \"\"\"\n",
    "        :type nums: List[int]\n",
    "        :rtype: int\n",
    "        \"\"\"\n",
    "        ans = 0\n",
    "        nums = sorted(nums)\n",
    "        medium = nums[int(round((len(nums)-1)/2))]\n",
    "        print(medium)\n",
    "        for i in nums:\n",
    "            ans += abs(i-medium)\n",
    "        return ans"
   ]
  },
  {
   "cell_type": "code",
   "execution_count": 115,
   "metadata": {},
   "outputs": [
    {
     "name": "stdout",
     "output_type": "stream",
     "text": [
      "2\n",
      "2\n"
     ]
    }
   ],
   "source": [
    "s = Solution()\n",
    "a = s.minMoves2([1,2,3])\n",
    "print(a)"
   ]
  },
  {
   "cell_type": "markdown",
   "metadata": {},
   "source": [
    "## 695. Max Area of Island"
   ]
  },
  {
   "cell_type": "code",
   "execution_count": null,
   "metadata": {},
   "outputs": [],
   "source": [
    "class Solution(object):\n",
    "    def maxAreaOfIsland(self, grid):\n",
    "        \"\"\"\n",
    "        :type grid: List[List[int]]\n",
    "        :rtype: int\n",
    "        \"\"\"\n",
    "        ans = 0\n",
    "        max_ans = 0\n",
    "        h = len(grid)\n",
    "        w = len(grid[0])\n",
    "        for i in range(h):\n",
    "            for j in range(w):\n",
    "                if grid[i][j] == 1:\n",
    "                    a = i\n",
    "                    b = j\n",
    "                    queue = [grid[a][b]]\n",
    "                    while queue:\n",
    "                        ans += len(queue)\n",
    "                        queue = [grid[a+1][b] if grid[a+1][b] == 1 and a < h - 1]\n",
    "                        queue.append(grid[a][b+1] if grid[a][b+1] == 1 and b < w - 1)\n",
    "                        grid[i+1][j] = "
   ]
  },
  {
   "cell_type": "code",
   "execution_count": 126,
   "metadata": {},
   "outputs": [
    {
     "ename": "IndexError",
     "evalue": "list index out of range",
     "output_type": "error",
     "traceback": [
      "\u001b[0;31m---------------------------------------------------------------------------\u001b[0m",
      "\u001b[0;31mIndexError\u001b[0m                                Traceback (most recent call last)",
      "\u001b[0;32m<ipython-input-126-65db0934caa4>\u001b[0m in \u001b[0;36m<module>\u001b[0;34m()\u001b[0m\n\u001b[1;32m      1\u001b[0m \u001b[0ma\u001b[0m \u001b[0;34m=\u001b[0m \u001b[0;34m[\u001b[0m\u001b[0;36m1\u001b[0m\u001b[0;34m,\u001b[0m\u001b[0;36m2\u001b[0m\u001b[0;34m]\u001b[0m\u001b[0;34m\u001b[0m\u001b[0m\n\u001b[0;32m----> 2\u001b[0;31m \u001b[0;32mif\u001b[0m \u001b[0ma\u001b[0m\u001b[0;34m[\u001b[0m\u001b[0;36m2\u001b[0m\u001b[0;34m]\u001b[0m\u001b[0;34m:\u001b[0m\u001b[0;34m\u001b[0m\u001b[0m\n\u001b[0m\u001b[1;32m      3\u001b[0m     \u001b[0mprint\u001b[0m\u001b[0;34m(\u001b[0m\u001b[0;36m1\u001b[0m\u001b[0;34m)\u001b[0m\u001b[0;34m\u001b[0m\u001b[0m\n",
      "\u001b[0;31mIndexError\u001b[0m: list index out of range"
     ]
    }
   ],
   "source": [
    "a = [1,2]\n",
    "if a[2]:\n",
    "    print(1)"
   ]
  },
  {
   "cell_type": "code",
   "execution_count": null,
   "metadata": {},
   "outputs": [],
   "source": []
  }
 ],
 "metadata": {
  "kernelspec": {
   "display_name": "Python 3",
   "language": "python",
   "name": "python3"
  },
  "language_info": {
   "codemirror_mode": {
    "name": "ipython",
    "version": 3
   },
   "file_extension": ".py",
   "mimetype": "text/x-python",
   "name": "python",
   "nbconvert_exporter": "python",
   "pygments_lexer": "ipython3",
   "version": "3.5.4"
  }
 },
 "nbformat": 4,
 "nbformat_minor": 2
}
