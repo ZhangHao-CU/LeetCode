{
 "cells": [
  {
   "cell_type": "markdown",
   "metadata": {},
   "source": [
    "## 238. Product of Array Except Self"
   ]
  },
  {
   "cell_type": "code",
   "execution_count": null,
   "metadata": {},
   "outputs": [],
   "source": [
    "class Solution:\n",
    "    def productExceptSelf(self, nums):\n",
    "        counter = nums.count(0)\n",
    "        length = len(nums)\n",
    "        if counter == 0:\n",
    "            product = 1\n",
    "            ans = []\n",
    "            for i in nums:\n",
    "                product *= i\n",
    "            for i in nums:\n",
    "                ans.append(int(product/i))\n",
    "            return ans\n",
    "        elif counter == 1:\n",
    "            product = 1\n",
    "            index = nums.index(0)\n",
    "            nums.remove(0)\n",
    "            for i in range(len(nums)):\n",
    "                product *= nums[i]\n",
    "            ans = [0]*length\n",
    "            ans[index] = int(product)\n",
    "            return ans\n",
    "        else:\n",
    "            return [0]*length"
   ]
  },
  {
   "cell_type": "code",
   "execution_count": 18,
   "metadata": {},
   "outputs": [
    {
     "name": "stdout",
     "output_type": "stream",
     "text": [
      "None\n"
     ]
    }
   ],
   "source": [
    "a = [1,0]\n",
    "#a.remove(1)\n",
    "print(a.remove(0))"
   ]
  },
  {
   "cell_type": "markdown",
   "metadata": {},
   "source": [
    "## 606. Construct String from Binary Tree"
   ]
  },
  {
   "cell_type": "code",
   "execution_count": 31,
   "metadata": {},
   "outputs": [],
   "source": [
    "class Solution:\n",
    "    def tree2str(self, t):\n",
    "        if not t:\n",
    "            return \"\"\n",
    "        return self.dfs(t)\n",
    "    def dfs(self, t):\n",
    "        path = \"\"\n",
    "        path += str(t.val)\n",
    "        if not t.left:\n",
    "            if not t.right:\n",
    "                return path\n",
    "            else:\n",
    "                path += '()('\n",
    "                path += self.dfs(t.right)\n",
    "                path += ')'\n",
    "        else:\n",
    "            path += '('\n",
    "            path += self.dfs(t.left)\n",
    "            path += ')'\n",
    "            if t.right:\n",
    "                path += '('\n",
    "                path += self.dfs(t.right)\n",
    "                path += ')'\n",
    "        return path\n",
    "        "
   ]
  },
  {
   "cell_type": "markdown",
   "metadata": {},
   "source": [
    "## 717. 1-bit and 2-bit Characters"
   ]
  },
  {
   "cell_type": "code",
   "execution_count": null,
   "metadata": {},
   "outputs": [],
   "source": [
    "class Solution:\n",
    "    def isOneBitCharacter(self, bits):\n",
    "        res = 0\n",
    "        for i in range(len(bits)-2,-1,-1):\n",
    "            if bits[i] is 1:\n",
    "                res += 1\n",
    "            else:\n",
    "                break\n",
    "        if res % 2 == 0:\n",
    "            return True\n",
    "        else:\n",
    "            return False"
   ]
  },
  {
   "cell_type": "markdown",
   "metadata": {},
   "source": [
    "## 676. Implement Magic Dictionary"
   ]
  },
  {
   "cell_type": "code",
   "execution_count": null,
   "metadata": {},
   "outputs": [],
   "source": [
    "class MagicDictionary(object):\n",
    "\n",
    "    def __init__(self):\n",
    "        \"\"\"\n",
    "        Initialize your data structure here.\n",
    "        \"\"\"\n",
    "        self.dic = []\n",
    "\n",
    "    def buildDict(self, dict):\n",
    "        \"\"\"\n",
    "        Build a dictionary through a list of words\n",
    "        :type dict: List[str]\n",
    "        :rtype: void\n",
    "        \"\"\"\n",
    "        self.dic = dict\n",
    "\n",
    "    def search(self, word):\n",
    "        \"\"\"\n",
    "        Returns if there is any word in the trie that equals to the given word after modifying exactly one character\n",
    "        :type word: str\n",
    "        :rtype: bool\n",
    "        \"\"\"\n",
    "        for w in self.dic:\n",
    "            if len(w) is not len(word):\n",
    "                continue\n",
    "            else:\n",
    "                diff = 1\n",
    "                for i in range(len(w)):\n",
    "                    if diff < 0:\n",
    "                        break\n",
    "                    if w[i] is not word[i]:\n",
    "                        diff -= 1\n",
    "                if diff is 0:\n",
    "                    return True\n",
    "        return False\n",
    "            \n",
    "\n",
    "\n",
    "# Your MagicDictionary object will be instantiated and called as such:\n",
    "# obj = MagicDictionary()\n",
    "# obj.buildDict(dict)\n",
    "# param_2 = obj.search(word)"
   ]
  },
  {
   "cell_type": "markdown",
   "metadata": {},
   "source": [
    "## 655. Print Binary Tree (need to review)"
   ]
  },
  {
   "cell_type": "code",
   "execution_count": null,
   "metadata": {},
   "outputs": [],
   "source": [
    "# Definition for a binary tree node.\n",
    "# class TreeNode(object):\n",
    "#     def __init__(self, x):\n",
    "#         self.val = x\n",
    "#         self.left = None\n",
    "#         self.right = None\n",
    "class Solution(object):\n",
    "    def printTree(self, root):\n",
    "        \"\"\"\n",
    "        :type root: TreeNode\n",
    "        :rtype: List[List[str]]\n",
    "        \"\"\"\n",
    "        queue = [root]\n",
    "        h = 0\n",
    "        w = 0\n",
    "        while queue:\n",
    "            h += 1\n",
    "            w = 2*w + 1\n",
    "            queue = [leaf for node in queue for leaf in (node.left, node.right) if leaf]\n",
    "        ans = [[\"\"] * w for _ in range(h)]\n",
    "        self.dfs(root, ans, 0, int((w-1)/2), h-1, 1)\n",
    "        return ans\n",
    "    \n",
    "    def dfs(self, root, ans, x, y, height, curh):\n",
    "        ans[x][y] =  str(root.val)\n",
    "        if root.left:\n",
    "            self.dfs(root.left, ans, x+1, y - pow(2,(height-curh)), height, curh+1)\n",
    "        if root.right:\n",
    "            self.dfs(root.right, ans, x+1, y + pow(2,(height-curh)), height, curh + 1)\n",
    "        return"
   ]
  },
  {
   "cell_type": "code",
   "execution_count": null,
   "metadata": {},
   "outputs": [],
   "source": []
  }
 ],
 "metadata": {
  "kernelspec": {
   "display_name": "Python 3",
   "language": "python",
   "name": "python3"
  },
  "language_info": {
   "codemirror_mode": {
    "name": "ipython",
    "version": 3
   },
   "file_extension": ".py",
   "mimetype": "text/x-python",
   "name": "python",
   "nbconvert_exporter": "python",
   "pygments_lexer": "ipython3",
   "version": "3.5.4"
  }
 },
 "nbformat": 4,
 "nbformat_minor": 2
}
