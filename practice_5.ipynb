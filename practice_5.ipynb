{
 "cells": [
  {
   "cell_type": "markdown",
   "metadata": {},
   "source": [
    "## 238. Product of Array Except Self"
   ]
  },
  {
   "cell_type": "code",
   "execution_count": null,
   "metadata": {},
   "outputs": [],
   "source": [
    "class Solution:\n",
    "    def productExceptSelf(self, nums):\n",
    "        counter = nums.count(0)\n",
    "        length = len(nums)\n",
    "        if counter == 0:\n",
    "            product = 1\n",
    "            ans = []\n",
    "            for i in nums:\n",
    "                product *= i\n",
    "            for i in nums:\n",
    "                ans.append(int(product/i))\n",
    "            return ans\n",
    "        elif counter == 1:\n",
    "            product = 1\n",
    "            index = nums.index(0)\n",
    "            nums.remove(0)\n",
    "            for i in range(len(nums)):\n",
    "                product *= nums[i]\n",
    "            ans = [0]*length\n",
    "            ans[index] = int(product)\n",
    "            return ans\n",
    "        else:\n",
    "            return [0]*length"
   ]
  },
  {
   "cell_type": "code",
   "execution_count": 18,
   "metadata": {},
   "outputs": [
    {
     "name": "stdout",
     "output_type": "stream",
     "text": [
      "None\n"
     ]
    }
   ],
   "source": [
    "a = [1,0]\n",
    "#a.remove(1)\n",
    "print(a.remove(0))"
   ]
  },
  {
   "cell_type": "markdown",
   "metadata": {},
   "source": [
    "## 606. Construct String from Binary Tree"
   ]
  },
  {
   "cell_type": "code",
   "execution_count": 31,
   "metadata": {},
   "outputs": [],
   "source": [
    "class Solution:\n",
    "    def tree2str(self, t):\n",
    "        if not t:\n",
    "            return \"\"\n",
    "        return self.dfs(t)\n",
    "    def dfs(self, t):\n",
    "        path = \"\"\n",
    "        path += str(t.val)\n",
    "        if not t.left:\n",
    "            if not t.right:\n",
    "                return path\n",
    "            else:\n",
    "                path += '()('\n",
    "                path += self.dfs(t.right)\n",
    "                path += ')'\n",
    "        else:\n",
    "            path += '('\n",
    "            path += self.dfs(t.left)\n",
    "            path += ')'\n",
    "            if t.right:\n",
    "                path += '('\n",
    "                path += self.dfs(t.right)\n",
    "                path += ')'\n",
    "        return path\n",
    "        "
   ]
  },
  {
   "cell_type": "markdown",
   "metadata": {},
   "source": [
    "## 717. 1-bit and 2-bit Characters"
   ]
  },
  {
   "cell_type": "code",
   "execution_count": null,
   "metadata": {},
   "outputs": [],
   "source": [
    "class Solution:\n",
    "    def isOneBitCharacter(self, bits):\n",
    "        res = 0\n",
    "        for i in range(len(bits)-2,-1,-1):\n",
    "            if bits[i] is 1:\n",
    "                res += 1\n",
    "            else:\n",
    "                break\n",
    "        if res % 2 == 0:\n",
    "            return True\n",
    "        else:\n",
    "            return False"
   ]
  },
  {
   "cell_type": "markdown",
   "metadata": {},
   "source": [
    "## 676. Implement Magic Dictionary"
   ]
  },
  {
   "cell_type": "code",
   "execution_count": null,
   "metadata": {},
   "outputs": [],
   "source": [
    "class MagicDictionary(object):\n",
    "\n",
    "    def __init__(self):\n",
    "        \"\"\"\n",
    "        Initialize your data structure here.\n",
    "        \"\"\"\n",
    "        self.dic = []\n",
    "\n",
    "    def buildDict(self, dict):\n",
    "        \"\"\"\n",
    "        Build a dictionary through a list of words\n",
    "        :type dict: List[str]\n",
    "        :rtype: void\n",
    "        \"\"\"\n",
    "        self.dic = dict\n",
    "\n",
    "    def search(self, word):\n",
    "        \"\"\"\n",
    "        Returns if there is any word in the trie that equals to the given word after modifying exactly one character\n",
    "        :type word: str\n",
    "        :rtype: bool\n",
    "        \"\"\"\n",
    "        for w in self.dic:\n",
    "            if len(w) is not len(word):\n",
    "                continue\n",
    "            else:\n",
    "                diff = 1\n",
    "                for i in range(len(w)):\n",
    "                    if diff < 0:\n",
    "                        break\n",
    "                    if w[i] is not word[i]:\n",
    "                        diff -= 1\n",
    "                if diff is 0:\n",
    "                    return True\n",
    "        return False\n",
    "            \n",
    "\n",
    "\n",
    "# Your MagicDictionary object will be instantiated and called as such:\n",
    "# obj = MagicDictionary()\n",
    "# obj.buildDict(dict)\n",
    "# param_2 = obj.search(word)"
   ]
  },
  {
   "cell_type": "markdown",
   "metadata": {},
   "source": [
    "## 655. Print Binary Tree (need to review)"
   ]
  },
  {
   "cell_type": "code",
   "execution_count": null,
   "metadata": {},
   "outputs": [],
   "source": [
    "# Definition for a binary tree node.\n",
    "# class TreeNode(object):\n",
    "#     def __init__(self, x):\n",
    "#         self.val = x\n",
    "#         self.left = None\n",
    "#         self.right = None\n",
    "class Solution(object):\n",
    "    def printTree(self, root):\n",
    "        \"\"\"\n",
    "        :type root: TreeNode\n",
    "        :rtype: List[List[str]]\n",
    "        \"\"\"\n",
    "        queue = [root]\n",
    "        h = 0\n",
    "        w = 0\n",
    "        while queue:\n",
    "            h += 1\n",
    "            w = 2*w + 1\n",
    "            queue = [leaf for node in queue for leaf in (node.left, node.right) if leaf]\n",
    "        ans = [[\"\"] * w for _ in range(h)]\n",
    "        self.dfs(root, ans, 0, int((w-1)/2), h-1, 1)\n",
    "        return ans\n",
    "    \n",
    "    def dfs(self, root, ans, x, y, height, curh):\n",
    "        ans[x][y] =  str(root.val)\n",
    "        if root.left:\n",
    "            self.dfs(root.left, ans, x+1, y - pow(2,(height-curh)), height, curh+1)\n",
    "        if root.right:\n",
    "            self.dfs(root.right, ans, x+1, y + pow(2,(height-curh)), height, curh + 1)\n",
    "        return"
   ]
  },
  {
   "cell_type": "markdown",
   "metadata": {},
   "source": [
    "## 565. Array Nesting"
   ]
  },
  {
   "cell_type": "code",
   "execution_count": 7,
   "metadata": {},
   "outputs": [
    {
     "name": "stdout",
     "output_type": "stream",
     "text": [
      "{2} 1\n"
     ]
    }
   ],
   "source": [
    "class Solution(object):\n",
    "    def arrayNesting(self, nums):\n",
    "        ans, step, visited = 0, 0, [False] * len(nums)\n",
    "        ss = 0\n",
    "        N = len(nums)\n",
    "        for i in range(len(nums)):\n",
    "            while not visited[i]:\n",
    "                visited[i], i, step = True, nums[i], step+1\n",
    "            ss += step\n",
    "            ans, step = max(ans,step), 0\n",
    "            if ss > N - ans:\n",
    "                return ans\n",
    "     \n",
    "        return ans"
   ]
  },
  {
   "cell_type": "code",
   "execution_count": null,
   "metadata": {},
   "outputs": [],
   "source": [
    "class Solution(object):\n",
    "    def arrayNesting(self, nums):\n",
    "        \"\"\"\n",
    "        :type nums: List[int]\n",
    "        :rtype: int\n",
    "        \"\"\"\n",
    "        ans = 0\n",
    "        flatans = []\n",
    "        ss = 0\n",
    "        N = len(nums)\n",
    "        for i in nums:\n",
    "            if i not in flatans:\n",
    "                flatans.append(i)\n",
    "                count = 1\n",
    "                j = i\n",
    "                while nums[j] not in flatans:\n",
    "                    flatans.append(nums[j])\n",
    "                    j = nums[j]\n",
    "                    count += 1\n",
    "                ans = max(ans,count)\n",
    "                ss += count\n",
    "                if ss > N - ans:\n",
    "                    return ans\n",
    "            else:\n",
    "                continue\n",
    "        return ans"
   ]
  },
  {
   "cell_type": "markdown",
   "metadata": {},
   "source": [
    "## 672. Bulb Switcher II"
   ]
  },
  {
   "cell_type": "code",
   "execution_count": null,
   "metadata": {},
   "outputs": [],
   "source": [
    "class Solution(object):\n",
    "    def flipLights(self, n, m):\n",
    "        n = min(n, 3)\n",
    "        if m == 0: return 1\n",
    "        if m == 1: return [2, 3, 4][n-1]\n",
    "        if m == 2: return [2, 4, 7][n-1]\n",
    "        return [2, 4, 8][n-1]"
   ]
  },
  {
   "cell_type": "markdown",
   "metadata": {},
   "source": [
    "## 529. Minesweeper"
   ]
  },
  {
   "cell_type": "code",
   "execution_count": 48,
   "metadata": {},
   "outputs": [],
   "source": [
    "class Solution(object):\n",
    "    def updateBoard(self, board, click):\n",
    "        if not board[click[0]][click[1]]:\n",
    "            return board\n",
    "        if board[click[0]][click[1]] is 'M':\n",
    "            board[click[0]][click[1]] = 'X'\n",
    "            return board\n",
    "        else:\n",
    "            self.travel(board,click[0],click[1])\n",
    "        return board\n",
    "            \n",
    "    def checkAdjacentMine(self,board,x,y):\n",
    "        ans = 0\n",
    "        l = max(0,x-1)\n",
    "        r = min(x+1,len(board)-1)\n",
    "        u = max(0,y-1)\n",
    "        d = min(y+1,len(board[0])-1)\n",
    "        for i in set([l,x,r]):\n",
    "            for j in set([u,y,d]):\n",
    "                if board[i][j] is 'M':\n",
    "                    ans += 1\n",
    "        return ans\n",
    "    def travel(self,board,x,y):\n",
    "        if x < 0 or x >len(board)-1:\n",
    "            return\n",
    "        if y < 0 or y >len(board[0])-1:\n",
    "            return\n",
    "        if board[x][y] is not 'E':\n",
    "            return\n",
    "        if self.checkAdjacentMine(board,x,y) is not 0:\n",
    "            board[x][y] = str(self.checkAdjacentMine(board,x,y))\n",
    "            return\n",
    "        else:\n",
    "            board[x][y] = 'B'\n",
    "            self.travel(board,x+1,y)\n",
    "            self.travel(board,x+1,y-1)\n",
    "            self.travel(board,x+1,y+1)\n",
    "            self.travel(board,x,y+1)\n",
    "            self.travel(board,x,y-1)\n",
    "            self.travel(board,x-1,y)\n",
    "            self.travel(board,x-1,y-1)\n",
    "            self.travel(board,x-1,y+1)\n",
    "            return"
   ]
  },
  {
   "cell_type": "markdown",
   "metadata": {},
   "source": [
    "## 347. Top K Frequent Elements"
   ]
  },
  {
   "cell_type": "code",
   "execution_count": 55,
   "metadata": {},
   "outputs": [
    {
     "name": "stdout",
     "output_type": "stream",
     "text": [
      "[(1, 3), (2, 2)]\n"
     ]
    }
   ],
   "source": [
    "import collections\n",
    "class Solution:\n",
    "    def topKFrequent(self, nums, k):\n",
    "        return [items[0] for items in collections.Counter(nums).most_common(k)]"
   ]
  },
  {
   "cell_type": "markdown",
   "metadata": {},
   "source": [
    "## 547. Friend Circles"
   ]
  },
  {
   "cell_type": "code",
   "execution_count": null,
   "metadata": {},
   "outputs": [],
   "source": [
    "class Solution:\n",
    "    def findCircleNum(self, M):\n",
    "        \"\"\"\n",
    "        :type M: List[List[int]]\n",
    "        :rtype: int\n",
    "        \"\"\"\n",
    "        visited = [False] * len(M)\n",
    "        ans = 0\n",
    "        for i in range(len(M)):\n",
    "            if visited[i] is False:\n",
    "                self.findAllFriends(M, visited, i)\n",
    "                ans += 1\n",
    "        return ans\n",
    "    def findAllFriends(self, M, visited, i):\n",
    "        visited[i] = True\n",
    "        curF = []\n",
    "        for j in range(len(M[i])):\n",
    "            if M[i][j] is 1 and visited[j] is False:\n",
    "                curF.append(j)\n",
    "        if not curF:\n",
    "            return\n",
    "        for k in curF:\n",
    "            self.findAllFriends(M, visited, k)\n",
    "        return"
   ]
  }
 ],
 "metadata": {
  "kernelspec": {
   "display_name": "Python 3",
   "language": "python",
   "name": "python3"
  },
  "language_info": {
   "codemirror_mode": {
    "name": "ipython",
    "version": 3
   },
   "file_extension": ".py",
   "mimetype": "text/x-python",
   "name": "python",
   "nbconvert_exporter": "python",
   "pygments_lexer": "ipython3",
   "version": "3.5.4"
  }
 },
 "nbformat": 4,
 "nbformat_minor": 2
}
