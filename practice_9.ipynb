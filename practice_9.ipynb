{
 "cells": [
  {
   "cell_type": "markdown",
   "metadata": {},
   "source": [
    "## "
   ]
  },
  {
   "cell_type": "code",
   "execution_count": 2,
   "metadata": {},
   "outputs": [
    {
     "name": "stdout",
     "output_type": "stream",
     "text": [
      "0\n",
      "2\n",
      "4\n",
      "6\n",
      "8\n"
     ]
    }
   ],
   "source": [
    "for i in range(0,9,2):\n",
    "    print(i)"
   ]
  },
  {
   "cell_type": "code",
   "execution_count": 34,
   "metadata": {},
   "outputs": [],
   "source": [
    "a = \"Philippe L\"\n",
    "b = \"Philippe V\"\n",
    "\n",
    "def Rome2Num(name):\n",
    "    ans = 0\n",
    "    romes = name.split(' ')[1]\n",
    "    for ch in romes:\n",
    "        if ch is 'I':\n",
    "            ans += 1\n",
    "        if ch is 'V':\n",
    "            ans += 5\n",
    "        if ch is 'X':\n",
    "            ans += 10\n",
    "        if ch is 'L':\n",
    "            ans += 50\n",
    "    return ans - 20*romes.count('XL') - 2*(romes.count('IV')+romes.count('IX'))"
   ]
  },
  {
   "cell_type": "code",
   "execution_count": 31,
   "metadata": {},
   "outputs": [
    {
     "name": "stdout",
     "output_type": "stream",
     "text": [
      "40\n"
     ]
    }
   ],
   "source": [
    "print(Rome2Num('XL'))"
   ]
  },
  {
   "cell_type": "code",
   "execution_count": 35,
   "metadata": {},
   "outputs": [
    {
     "ename": "SyntaxError",
     "evalue": "invalid character in identifier (<ipython-input-35-329cd45aa92b>, line 4)",
     "output_type": "error",
     "traceback": [
      "\u001b[0;36m  File \u001b[0;32m\"<ipython-input-35-329cd45aa92b>\"\u001b[0;36m, line \u001b[0;32m4\u001b[0m\n\u001b[0;31m    print(sorted(v)，key = Rome2Num)\u001b[0m\n\u001b[0m                      ^\u001b[0m\n\u001b[0;31mSyntaxError\u001b[0m\u001b[0;31m:\u001b[0m invalid character in identifier\n"
     ]
    }
   ],
   "source": [
    "a = \"Philippe L\"\n",
    "b = \"Philippe V\"\n",
    "v = [b,a]\n",
    "print(sorted(v)，key = Rome2Num)"
   ]
  },
  {
   "cell_type": "code",
   "execution_count": null,
   "metadata": {},
   "outputs": [],
   "source": [
    "def Rating(nums):\n",
    "    if not nums:\n",
    "        return 0\n",
    "    if len(nums) is 1:\n",
    "        return nums[0]\n",
    "    if len(nums) is 2:\n",
    "        return max(nums[0],nums[1])\n",
    "    ans = 0\n",
    "    res = []\n",
    "    for i in range()"
   ]
  }
 ],
 "metadata": {
  "kernelspec": {
   "display_name": "Python 3",
   "language": "python",
   "name": "python3"
  },
  "language_info": {
   "codemirror_mode": {
    "name": "ipython",
    "version": 3
   },
   "file_extension": ".py",
   "mimetype": "text/x-python",
   "name": "python",
   "nbconvert_exporter": "python",
   "pygments_lexer": "ipython3",
   "version": "3.5.4"
  }
 },
 "nbformat": 4,
 "nbformat_minor": 2
}
