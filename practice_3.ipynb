{
 "cells": [
  {
   "cell_type": "markdown",
   "metadata": {},
   "source": [
    "## 667. Beautiful Arrangement II"
   ]
  },
  {
   "cell_type": "code",
   "execution_count": 2,
   "metadata": {},
   "outputs": [],
   "source": [
    "class Solution(object):\n",
    "    def constructArray(self, n, k):\n",
    "        \"\"\"\n",
    "        :type n: int\n",
    "        :type k: int\n",
    "        :rtype: List[int]\n",
    "        \"\"\"\n",
    "        ans = list(range(1,n+1))\n",
    "        a = k+1\n",
    "        b = 1\n",
    "        for i in range(k,-1,-2):\n",
    "            ans[i] = a\n",
    "            a -= 1\n",
    "            if i-1 >= 0:\n",
    "                ans[i-1] = b\n",
    "                b += 1\n",
    "        return ans"
   ]
  },
  {
   "cell_type": "markdown",
   "metadata": {},
   "source": [
    "## 258. Add Digits"
   ]
  },
  {
   "cell_type": "code",
   "execution_count": 6,
   "metadata": {},
   "outputs": [],
   "source": [
    "class Solution(object):\n",
    "    def addDigits(self, num):\n",
    "        while num >= 10:\n",
    "            num = sum([int(a) for a in str(num)])\n",
    "        return num\n",
    "            "
   ]
  },
  {
   "cell_type": "code",
   "execution_count": 7,
   "metadata": {},
   "outputs": [
    {
     "name": "stdout",
     "output_type": "stream",
     "text": [
      "5\n"
     ]
    }
   ],
   "source": [
    "s = Solution()\n",
    "a = s.addDigits(23)\n",
    "print(a)"
   ]
  },
  {
   "cell_type": "code",
   "execution_count": 12,
   "metadata": {},
   "outputs": [],
   "source": [
    "class Solution(object):\n",
    "    def addDigits(self, num):\n",
    "        \"\"\"\n",
    "        :type num: int\n",
    "        :rtype: int\n",
    "        \"\"\"\n",
    "        return (num-1) // 9 + 1 if num else 0"
   ]
  },
  {
   "cell_type": "code",
   "execution_count": 13,
   "metadata": {},
   "outputs": [
    {
     "name": "stdout",
     "output_type": "stream",
     "text": [
      "1\n"
     ]
    }
   ],
   "source": [
    "print(5 // 4)"
   ]
  },
  {
   "cell_type": "markdown",
   "metadata": {},
   "source": [
    "## 732. My Calendar III"
   ]
  },
  {
   "cell_type": "code",
   "execution_count": 37,
   "metadata": {},
   "outputs": [],
   "source": [
    "class MyCalendarThree(object):\n",
    "\n",
    "    def __init__(self):\n",
    "        self.range = {}\n",
    "        self.max = 1\n",
    "\n",
    "    def book(self, start, end):\n",
    "        \"\"\"\n",
    "        :type start: int\n",
    "        :type end: int\n",
    "        :rtype: int\n",
    "        \"\"\"\n",
    "        tmp = 1\n",
    "        i = 0\n",
    "        for i in self.range:\n",
    "            if end <= self.range[i][0] or start > self.range[i][1]:\n",
    "                continue\n",
    "            else:\n",
    "                tmp += 1\n",
    "        self.range.update({i+1:(start,end)})\n",
    "        self.max = max(self.max,tmp)\n",
    "        return self.max\n",
    "\n",
    "\n",
    "# Your MyCalendarThree object will be instantiated and called as such:\n",
    "# obj = MyCalendarThree()\n",
    "# param_1 = obj.book(start,end)"
   ]
  },
  {
   "cell_type": "code",
   "execution_count": 53,
   "metadata": {},
   "outputs": [
    {
     "name": "stdout",
     "output_type": "stream",
     "text": [
      "1\n",
      "Counter({10: 1, 20: -1})\n",
      "[10, 20]\n",
      "2\n",
      "Counter({10: 1, 15: 1, 25: -1, 20: -1})\n",
      "[10, 15, 20, 25]\n"
     ]
    }
   ],
   "source": [
    "s = MyCalendarThree();\n",
    "s.book(10, 20);\n",
    "s.book(15, 25);\n",
    "#s.book(10, 40);\n",
    "#s.book(5, 15);\n",
    "#s.book(5, 10);\n",
    "#s.book(25, 55); "
   ]
  },
  {
   "cell_type": "code",
   "execution_count": 52,
   "metadata": {},
   "outputs": [],
   "source": [
    "class MyCalendarThree(object):\n",
    "\n",
    "    def __init__(self):\n",
    "        self.delta = collections.Counter()\n",
    "\n",
    "    def book(self, start, end):\n",
    "        self.delta[start] += 1\n",
    "        self.delta[end] -= 1\n",
    "\n",
    "        active = ans = 0\n",
    "        for x in sorted(self.delta):\n",
    "            active += self.delta[x]\n",
    "            if active > ans:\n",
    "                ans = active\n",
    "        return ans"
   ]
  },
  {
   "cell_type": "code",
   "execution_count": 43,
   "metadata": {},
   "outputs": [
    {
     "name": "stdout",
     "output_type": "stream",
     "text": [
      "Counter({'b': 3, 'a': 2, 'c': 1})\n",
      "Counter({'b': 3, 'a': 2, 'c': 1})\n",
      "Counter({'b': 3, 'a': 2, 'c': 1})\n"
     ]
    }
   ],
   "source": [
    "import collections\n",
    "\n",
    "print(collections.Counter(['a', 'b', 'c', 'a', 'b', 'b']))\n",
    "print(collections.Counter({'a':2, 'b':3, 'c':1}))\n",
    "print(collections.Counter(a=2, b=3, c=1))"
   ]
  },
  {
   "cell_type": "markdown",
   "metadata": {},
   "source": [
    "## 495. Teemo Attacking"
   ]
  },
  {
   "cell_type": "code",
   "execution_count": null,
   "metadata": {},
   "outputs": [],
   "source": [
    "class Solution(object):\n",
    "    def findPoisonedDuration(self, timeSeries, duration):\n",
    "        if not timeSeries:\n",
    "            return 0\n",
    "        ans = 0\n",
    "        curStart = timeSeries[0]\n",
    "        for i in range(len(timeSeries)-1):\n",
    "            if curStart + duration > timeSeries[i + 1]:\n",
    "                ans += (timeSeries[i + 1] - curStart)\n",
    "            else:\n",
    "                ans += duration\n",
    "            curStart = timeSeries[i + 1]\n",
    "        return ans + duration"
   ]
  },
  {
   "cell_type": "code",
   "execution_count": null,
   "metadata": {},
   "outputs": [],
   "source": [
    "class Solution(object):\n",
    "    def findPoisonedDuration(self, timeSeries, duration):\n",
    "        ans = duration * len(timeSeries)\n",
    "        for i in range(1,len(timeSeries)):\n",
    "            ans -= max(0, duration - (timeSeries[i] - timeSeries[i-1]))\n",
    "        return ans"
   ]
  },
  {
   "cell_type": "markdown",
   "metadata": {},
   "source": [
    "## 451. Sort Characters By Frequency"
   ]
  },
  {
   "cell_type": "code",
   "execution_count": 68,
   "metadata": {},
   "outputs": [],
   "source": [
    "class Solution(object):\n",
    "    def frequencySort(self, s):\n",
    "        ans = \"\"\n",
    "        res = {}\n",
    "        for ch in s:\n",
    "            if ch in res:\n",
    "                res[ch] += 1\n",
    "            else:\n",
    "                res[ch] = 1\n",
    "        for i in sorted(res, key = res.get, reverse = True):\n",
    "            ans += i * res[i]\n",
    "        return ans"
   ]
  },
  {
   "cell_type": "code",
   "execution_count": null,
   "metadata": {},
   "outputs": [],
   "source": [
    "class Solution(object):\n",
    "    def frequencySort(self, str):\n",
    "        \"\"\"\n",
    "        :type str: str\n",
    "        :rtype: str\n",
    "        \"\"\"\n",
    "        return \"\".join([char * times for char, times in collections.Counter(str).most_common()])"
   ]
  }
 ],
 "metadata": {
  "kernelspec": {
   "display_name": "Python 3",
   "language": "python",
   "name": "python3"
  },
  "language_info": {
   "codemirror_mode": {
    "name": "ipython",
    "version": 3
   },
   "file_extension": ".py",
   "mimetype": "text/x-python",
   "name": "python",
   "nbconvert_exporter": "python",
   "pygments_lexer": "ipython3",
   "version": "3.5.4"
  }
 },
 "nbformat": 4,
 "nbformat_minor": 2
}
