{
 "cells": [
  {
   "cell_type": "markdown",
   "metadata": {},
   "source": [
    "## 238. Product of Array Except Self"
   ]
  },
  {
   "cell_type": "code",
   "execution_count": null,
   "metadata": {},
   "outputs": [],
   "source": [
    "class Solution:\n",
    "    def productExceptSelf(self, nums):\n",
    "        counter = nums.count(0)\n",
    "        length = len(nums)\n",
    "        if counter == 0:\n",
    "            product = 1\n",
    "            ans = []\n",
    "            for i in nums:\n",
    "                product *= i\n",
    "            for i in nums:\n",
    "                ans.append(int(product/i))\n",
    "            return ans\n",
    "        elif counter == 1:\n",
    "            product = 1\n",
    "            index = nums.index(0)\n",
    "            nums.remove(0)\n",
    "            for i in range(len(nums)):\n",
    "                product *= nums[i]\n",
    "            ans = [0]*length\n",
    "            ans[index] = int(product)\n",
    "            return ans\n",
    "        else:\n",
    "            return [0]*length"
   ]
  },
  {
   "cell_type": "code",
   "execution_count": 18,
   "metadata": {},
   "outputs": [
    {
     "name": "stdout",
     "output_type": "stream",
     "text": [
      "None\n"
     ]
    }
   ],
   "source": [
    "a = [1,0]\n",
    "#a.remove(1)\n",
    "print(a.remove(0))"
   ]
  },
  {
   "cell_type": "markdown",
   "metadata": {},
   "source": [
    "## 606. Construct String from Binary Tree"
   ]
  },
  {
   "cell_type": "code",
   "execution_count": 31,
   "metadata": {},
   "outputs": [],
   "source": [
    "class Solution:\n",
    "    def tree2str(self, t):\n",
    "        if not t:\n",
    "            return \"\"\n",
    "        return self.dfs(t)\n",
    "    def dfs(self, t):\n",
    "        path = \"\"\n",
    "        path += str(t.val)\n",
    "        if not t.left:\n",
    "            if not t.right:\n",
    "                return path\n",
    "            else:\n",
    "                path += '()('\n",
    "                path += self.dfs(t.right)\n",
    "                path += ')'\n",
    "        else:\n",
    "            path += '('\n",
    "            path += self.dfs(t.left)\n",
    "            path += ')'\n",
    "            if t.right:\n",
    "                path += '('\n",
    "                path += self.dfs(t.right)\n",
    "                path += ')'\n",
    "        return path\n",
    "        "
   ]
  },
  {
   "cell_type": "markdown",
   "metadata": {},
   "source": [
    "## 717. 1-bit and 2-bit Characters"
   ]
  },
  {
   "cell_type": "code",
   "execution_count": null,
   "metadata": {},
   "outputs": [],
   "source": [
    "class Solution:\n",
    "    def isOneBitCharacter(self, bits):\n",
    "        res = 0\n",
    "        for i in range(len(bits)-2,-1,-1):\n",
    "            if bits[i] is 1:\n",
    "                res += 1\n",
    "            else:\n",
    "                break\n",
    "        if res % 2 == 0:\n",
    "            return True\n",
    "        else:\n",
    "            return False"
   ]
  }
 ],
 "metadata": {
  "kernelspec": {
   "display_name": "Python 3",
   "language": "python",
   "name": "python3"
  },
  "language_info": {
   "codemirror_mode": {
    "name": "ipython",
    "version": 3
   },
   "file_extension": ".py",
   "mimetype": "text/x-python",
   "name": "python",
   "nbconvert_exporter": "python",
   "pygments_lexer": "ipython3",
   "version": "3.5.4"
  }
 },
 "nbformat": 4,
 "nbformat_minor": 2
}
