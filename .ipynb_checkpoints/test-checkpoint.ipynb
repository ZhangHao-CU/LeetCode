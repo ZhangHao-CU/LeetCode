{
 "cells": [
  {
   "cell_type": "code",
   "execution_count": null,
   "metadata": {},
   "outputs": [],
   "source": [
    "import datetime as dt\n",
    "\n",
    "from datetime import datetime\n",
    "\n",
    "datetime.now()"
   ]
  },
  {
   "cell_type": "code",
   "execution_count": null,
   "metadata": {
    "scrolled": false
   },
   "outputs": [],
   "source": [
    "import this"
   ]
  },
  {
   "cell_type": "code",
   "execution_count": null,
   "metadata": {},
   "outputs": [],
   "source": [
    "try:\n",
    "    int('two')\n",
    "except TypeError:\n",
    "    print('type error!')\n",
    "except ValueError:\n",
    "    print('value error!')"
   ]
  },
  {
   "cell_type": "code",
   "execution_count": null,
   "metadata": {},
   "outputs": [],
   "source": [
    "raw = input(\"Number input here > \")\n",
    "try:\n",
    "    print(int(raw))\n",
    "except:\n",
    "    print(\"value error!\")\n",
    "else:\n",
    "    print(\"nothing bad happened!\")\n",
    "finally:\n",
    "    print(\"no matter what, do this!\")"
   ]
  },
  {
   "cell_type": "code",
   "execution_count": null,
   "metadata": {},
   "outputs": [],
   "source": [
    "().append(1)"
   ]
  },
  {
   "cell_type": "code",
   "execution_count": null,
   "metadata": {},
   "outputs": [],
   "source": [
    "def raise_havoc():\n",
    "    raise RuntimeError('HAVOC!')\n",
    "\n",
    "raise_havoc()"
   ]
  },
  {
   "cell_type": "code",
   "execution_count": null,
   "metadata": {},
   "outputs": [],
   "source": [
    "raise NameError('Name {} is not defined'.format('Moose'))"
   ]
  },
  {
   "cell_type": "code",
   "execution_count": null,
   "metadata": {},
   "outputs": [],
   "source": [
    "fp = None\n",
    "\n",
    "try:\n",
    "    fp = open(\"\")\n",
    "    lines = fp.read()\n",
    "finally:\n",
    "    if fp:\n",
    "        fp.close()"
   ]
  },
  {
   "cell_type": "code",
   "execution_count": null,
   "metadata": {},
   "outputs": [],
   "source": [
    "with open(\"\") as fp:\n",
    "    lines = fp.read()"
   ]
  },
  {
   "cell_type": "code",
   "execution_count": null,
   "metadata": {},
   "outputs": [],
   "source": [
    "raise ValueError('This is my own value error')"
   ]
  },
  {
   "cell_type": "code",
   "execution_count": null,
   "metadata": {},
   "outputs": [],
   "source": [
    "try:\n",
    "    f\n",
    "except NameError:\n",
    "    print('saved!')"
   ]
  },
  {
   "cell_type": "markdown",
   "metadata": {},
   "source": [
    "## OOP"
   ]
  },
  {
   "cell_type": "code",
   "execution_count": null,
   "metadata": {},
   "outputs": [],
   "source": [
    "class MyObject():\n",
    "    def __init__(self):\n",
    "        self.my_attribute = \"woot\"\n",
    "        \n",
    "    def say_hi(self):\n",
    "        print(\"hi!\")"
   ]
  },
  {
   "cell_type": "code",
   "execution_count": null,
   "metadata": {},
   "outputs": [],
   "source": [
    "my_obj = MyObject()"
   ]
  },
  {
   "cell_type": "code",
   "execution_count": null,
   "metadata": {},
   "outputs": [],
   "source": [
    "my_obj"
   ]
  },
  {
   "cell_type": "code",
   "execution_count": null,
   "metadata": {},
   "outputs": [],
   "source": [
    "dir(my_obj)"
   ]
  },
  {
   "cell_type": "code",
   "execution_count": null,
   "metadata": {},
   "outputs": [],
   "source": [
    "class Pet:\n",
    "    def __init__(self, name):\n",
    "        self.name = name + ' McCutey'\n",
    "    \n",
    "    @property\n",
    "    def cutified_name(self):\n",
    "        self.name += \" name\"\n",
    "        return self.name"
   ]
  },
  {
   "cell_type": "code",
   "execution_count": null,
   "metadata": {},
   "outputs": [],
   "source": [
    "P = Pet('franz')\n",
    "print(P.cutified_name)"
   ]
  },
  {
   "cell_type": "markdown",
   "metadata": {},
   "source": [
    "# generators"
   ]
  },
  {
   "cell_type": "code",
   "execution_count": null,
   "metadata": {},
   "outputs": [],
   "source": [
    "def gen():\n",
    "    yield 'hi'\n",
    "    yield 'hello'\n",
    "    yield 'whats up'\n",
    "    \n",
    "mygen = gen()\n",
    "print(mygen)\n",
    "print(next(mygen))\n",
    "print(next(mygen))\n",
    "print(next(mygen))\n",
    "print(next(mygen))"
   ]
  },
  {
   "cell_type": "code",
   "execution_count": null,
   "metadata": {},
   "outputs": [],
   "source": [
    "for i in mygen:\n",
    "    print(i)"
   ]
  },
  {
   "cell_type": "code",
   "execution_count": null,
   "metadata": {},
   "outputs": [],
   "source": [
    "def gen(x):\n",
    "    yield from range(x)\n",
    "mygen = gen(5)\n",
    "for i in mygen:\n",
    "    print(i)"
   ]
  },
  {
   "cell_type": "code",
   "execution_count": null,
   "metadata": {
    "scrolled": true
   },
   "outputs": [],
   "source": [
    "def gen():\n",
    "    while True:\n",
    "        yield 'This'\n",
    "        yield 'Is'\n",
    "        yield 'The'\n",
    "        \n",
    "g = gen()\n",
    "for i in range(100):\n",
    "    print(next(g))"
   ]
  },
  {
   "cell_type": "code",
   "execution_count": 30,
   "metadata": {},
   "outputs": [
    {
     "name": "stdout",
     "output_type": "stream",
     "text": [
      "<class 'str'>\n",
      "b'U'\n"
     ]
    }
   ],
   "source": [
    "string = u'U'\n",
    "s = '\\u0055'\n",
    "print(type(s))\n",
    "print(repr(s.encode('utf-8','hex')))"
   ]
  },
  {
   "cell_type": "code",
   "execution_count": 37,
   "metadata": {},
   "outputs": [
    {
     "data": {
      "text/plain": [
       "['1892']"
      ]
     },
     "execution_count": 37,
     "metadata": {},
     "output_type": "execute_result"
    }
   ],
   "source": [
    "import re\n",
    "response = \"\"\"GET /vod/big_buck_bunny.f4m HTTP/1.1\n",
    "Host: localhost:9002\n",
    "User-Agent: Mozilla/5.0 (X11; Linux x86_64; rv:34.0) Gecko/20100101 Firefox/34.0\n",
    "Accept: text/html,application/xhtml+xml,application/xml;q=0.9,*/*;q=0.8\n",
    "Accept-Language: en-US,en;q=0.5\n",
    "Accept-Encoding: gzip, deflate\n",
    "Referer: http://localhost:9002/StrobeMediaPlayback.swf\n",
    "Connection: keep-alive\n",
    "\n",
    "\n",
    "\"\"\"\n",
    "user=re.compile(\"Content-Length: (.*?)\\n\")\n",
    "a = user.findall(response)\n",
    "a"
   ]
  },
  {
   "cell_type": "code",
   "execution_count": 42,
   "metadata": {},
   "outputs": [],
   "source": [
    "import re\n",
    "w = \"\"\"GET /vod/big_buck_bunny.f4m HTTP/1.1\n",
    "Host: localhost:9002\n",
    "User-Agent: Mozilla/5.0 (X11; Linux x86_64; rv:34.0) Gecko/20100101 Firefox/34.0\n",
    "Accept: text/html,application/xhtml+xml,application/xml;q=0.9,*/*;q=0.8\n",
    "Accept-Language: en-US,en;q=0.5\n",
    "Accept-Encoding: gzip, deflate\n",
    "Referer: http://localhost:9002/StrobeMediaPlayback.swf\n",
    "Connection: keep-alive\n",
    "\n",
    "\n",
    "\"\"\"\n",
    "\n",
    "a = w.split('\\n')[0]\n",
    "b = a.split(' ')[1]\n",
    "c = b.split('.')"
   ]
  },
  {
   "cell_type": "code",
   "execution_count": 55,
   "metadata": {},
   "outputs": [
    {
     "name": "stdout",
     "output_type": "stream",
     "text": [
      "dfsdfdd\n"
     ]
    }
   ],
   "source": [
    "a = [['dfs'],['dfd','d']]\n",
    "b = [i for items in a for i in items]\n",
    "print(''.join(b))"
   ]
  },
  {
   "cell_type": "code",
   "execution_count": 70,
   "metadata": {},
   "outputs": [
    {
     "name": "stdout",
     "output_type": "stream",
     "text": [
      "{}\n"
     ]
    }
   ],
   "source": [
    "import xml.etree.ElementTree as ET \n",
    "manifest = \"\"\"<?xml version=\"1.0\" encoding=\"UTF-8\"?>\n",
    "<manifest xmlns=\"http://ns.adobe.com/f4m/1.0\">\n",
    "    <id>\n",
    "        10\n",
    "    </id>\n",
    "    <streamType>\n",
    "        recorded\n",
    "    </streamType>\n",
    "    <duration>\n",
    "        596.50133333333338\n",
    "    </duration>\n",
    "    <bootstrapInfo\n",
    "        profile=\"named\"\n",
    "        id=\"bootstrap5948\"\n",
    "    >\n",
    "        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\n",
    "    </bootstrapInfo>\n",
    "    <media\n",
    "        streamId=\"10\"\n",
    "        url=\"10\"\n",
    "        bitrate=\"10\"\n",
    "        bootstrapInfoId=\"bootstrap5948\"\n",
    "    >\n",
    "        <metadata>\n",
    "            AgAKb25NZXRhRGF0YQgAAAAAAAhkdXJhdGlvbgBAgqQCuwz4fgAFd2lkdGgAQIqwAAAAAAAABmhlaWdodABAfgAAAAAAAAAMdmlkZW9jb2RlY2lkAgAEYXZjMQAMYXVkaW9jb2RlY2lkAgAEbXA0YQAKYXZjcHJvZmlsZQBAU0AAAAAAAAAIYXZjbGV2ZWwAQEQAAAAAAAAADnZpZGVvZnJhbWVyYXRlAEA+AAAAAAAAAA9hdWRpb3NhbXBsZXJhdGUAQOdwAAAAAAAADWF1ZGlvY2hhbm5lbHMAQAAAAAAAAAAACXRyYWNraW5mbwoAAAACAwAGbGVuZ3RoAEGJmJzAAAAAAAl0aW1lc2NhbGUAQPX5AAAAAAAACGxhbmd1YWdlAgADdW5kAAAJAwAGbGVuZ3RoAEF7TkAAAAAAAAl0aW1lc2NhbGUAQOdwAAAAAAAACGxhbmd1YWdlAgADZW5nAAAJAAAJ\n",
    "        </metadata>\n",
    "    </media>\n",
    "</manifest>\"\"\"\n",
    "root = ET.fromstring(manifest)\n",
    "print(root.attrib)"
   ]
  },
  {
   "cell_type": "code",
   "execution_count": 73,
   "metadata": {},
   "outputs": [
    {
     "name": "stdout",
     "output_type": "stream",
     "text": [
      "{http://ns.adobe.com/f4m/1.0}manifest\n"
     ]
    }
   ],
   "source": [
    "import xml.etree.ElementTree as ET \n",
    "manifest = \"\"\"<?xml version=\"1.0\" encoding=\"UTF-8\"?>\n",
    "<manifest xmlns=\"http://ns.adobe.com/f4m/1.0\">\n",
    "    <id>\n",
    "        10\n",
    "    </id>\n",
    "    <streamType>\n",
    "        recorded\n",
    "    </streamType>\n",
    "    <duration>\n",
    "        596.50133333333338\n",
    "    </duration>\n",
    "    <bootstrapInfo\n",
    "        profile=\"named\"\n",
    "        id=\"bootstrap5948\"\n",
    "    >\n",
    "        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\n",
    "    </bootstrapInfo>\n",
    "    <media\n",
    "        streamId=\"10\"\n",
    "        url=\"10\"\n",
    "        bitrate=\"10\"\n",
    "        bootstrapInfoId=\"bootstrap5948\"\n",
    "    >\n",
    "        <metadata>\n",
    "            AgAKb25NZXRhRGF0YQgAAAAAAAhkdXJhdGlvbgBAgqQCuwz4fgAFd2lkdGgAQIqwAAAAAAAABmhlaWdodABAfgAAAAAAAAAMdmlkZW9jb2RlY2lkAgAEYXZjMQAMYXVkaW9jb2RlY2lkAgAEbXA0YQAKYXZjcHJvZmlsZQBAU0AAAAAAAAAIYXZjbGV2ZWwAQEQAAAAAAAAADnZpZGVvZnJhbWVyYXRlAEA+AAAAAAAAAA9hdWRpb3NhbXBsZXJhdGUAQOdwAAAAAAAADWF1ZGlvY2hhbm5lbHMAQAAAAAAAAAAACXRyYWNraW5mbwoAAAACAwAGbGVuZ3RoAEGJmJzAAAAAAAl0aW1lc2NhbGUAQPX5AAAAAAAACGxhbmd1YWdlAgADdW5kAAAJAwAGbGVuZ3RoAEF7TkAAAAAAAAl0aW1lc2NhbGUAQOdwAAAAAAAACGxhbmd1YWdlAgADZW5nAAAJAAAJ\n",
    "        </metadata>\n",
    "    </media>\n",
    "</manifest>\"\"\"\n",
    "root = ET.fromstring(manifest)\n",
    "print(root.tag)"
   ]
  },
  {
   "cell_type": "code",
   "execution_count": 50,
   "metadata": {},
   "outputs": [
    {
     "name": "stdout",
     "output_type": "stream",
     "text": [
      "10\n",
      "10Seg122-Frag132\n"
     ]
    }
   ],
   "source": [
    "bitrates = [10,100,500,1000]\n",
    "B = [1.5*i for i in bitrates]\n",
    "a = 2\n",
    "for i in range(len(B)-1,-1,-1):\n",
    "    if a > B[i]:\n",
    "        break\n",
    "suit = bitrates[i]\n",
    "print(suit)\n",
    "ss = '1000Seg122-Frag132'\n",
    "ss = re.sub('1000Seg(.*)-Frag(.*)', str(suit) + 'Seg' + str(finder.findall(ss)[0][0]) + '-Frag' + \n",
    "            str(finder.findall(ss)[0][1]), ss)\n",
    "print(ss)"
   ]
  },
  {
   "cell_type": "code",
   "execution_count": 30,
   "metadata": {},
   "outputs": [],
   "source": [
    "import re\n",
    "ss = '1000Seg122-Frag132'\n",
    "ss = re.match('1000Seg(.*)-Frag(.*)',ss)\n",
    "if ss:\n",
    "    print('a')"
   ]
  },
  {
   "cell_type": "code",
   "execution_count": 47,
   "metadata": {},
   "outputs": [],
   "source": [
    "finder = re.compile(\"1000Seg(.*)-Frag(.*)\")\n"
   ]
  },
  {
   "cell_type": "code",
   "execution_count": 62,
   "metadata": {},
   "outputs": [],
   "source": [
    "f = open('./proxy.log','a')\n",
    "a = 1\n",
    "f.write('hello world')\n",
    "f.write('\\n')\n",
    "f.close()"
   ]
  },
  {
   "cell_type": "code",
   "execution_count": null,
   "metadata": {},
   "outputs": [],
   "source": []
  }
 ],
 "metadata": {
  "kernelspec": {
   "display_name": "Python 3",
   "language": "python",
   "name": "python3"
  },
  "language_info": {
   "codemirror_mode": {
    "name": "ipython",
    "version": 3
   },
   "file_extension": ".py",
   "mimetype": "text/x-python",
   "name": "python",
   "nbconvert_exporter": "python",
   "pygments_lexer": "ipython3",
   "version": "3.5.4"
  }
 },
 "nbformat": 4,
 "nbformat_minor": 2
}
