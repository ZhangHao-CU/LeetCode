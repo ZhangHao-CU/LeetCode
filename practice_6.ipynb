{
 "cells": [
  {
   "cell_type": "markdown",
   "metadata": {},
   "source": [
    "## 538. Convert BST to Greater Tree"
   ]
  },
  {
   "cell_type": "code",
   "execution_count": 1,
   "metadata": {},
   "outputs": [],
   "source": [
    "class Solution(object):\n",
    "    def __init__(self):\n",
    "        self.total = 0\n",
    "\n",
    "    def convertBST(self, root):\n",
    "        if root:\n",
    "            self.convertBST(root.right)\n",
    "            self.total += root.val\n",
    "            root.val = self.total\n",
    "            self.convertBST(root.left)\n",
    "        return root"
   ]
  },
  {
   "cell_type": "markdown",
   "metadata": {},
   "source": [
    "## 94. Binary Tree Inorder Traversal"
   ]
  },
  {
   "cell_type": "code",
   "execution_count": null,
   "metadata": {},
   "outputs": [],
   "source": [
    "# Definition for a binary tree node.\n",
    "# class TreeNode:\n",
    "#     def __init__(self, x):\n",
    "#         self.val = x\n",
    "#         self.left = None\n",
    "#         self.right = None\n",
    "\n",
    "class Solution:\n",
    "    def inorderTraversal(self, root):\n",
    "        if not root:\n",
    "            return []\n",
    "        stack = []\n",
    "        stack.append(root)\n",
    "        ans = []\n",
    "        while stack:\n",
    "            print(ans)\n",
    "            if stack[-1].left:\n",
    "                stack.append(stack[-1].left)\n",
    "                continue\n",
    "            node = stack.pop()\n",
    "            ans.append(node.val)\n",
    "            if node.right:\n",
    "                stack.append(node.right)\n",
    "                continue\n",
    "        return ans"
   ]
  },
  {
   "cell_type": "code",
   "execution_count": null,
   "metadata": {},
   "outputs": [],
   "source": [
    "# Definition for a binary tree node.\n",
    "# class TreeNode:\n",
    "#     def __init__(self, x):\n",
    "#         self.val = x\n",
    "#         self.left = None\n",
    "#         self.right = None\n",
    "\n",
    "class Solution:\n",
    "    def inorderTraversal(self, root):\n",
    "        if not root:\n",
    "            return []\n",
    "        ans = []\n",
    "        self.dfs(root,ans)\n",
    "        return ans\n",
    "    def dfs(self,root,ans):\n",
    "        if root.left:\n",
    "            self.dfs(root.left,ans)\n",
    "        ans.append(root.val)\n",
    "        if root.right:\n",
    "            self.dfs(root.right,ans)"
   ]
  },
  {
   "cell_type": "markdown",
   "metadata": {},
   "source": [
    "## 168. Excel Sheet Column Title"
   ]
  },
  {
   "cell_type": "code",
   "execution_count": 7,
   "metadata": {},
   "outputs": [],
   "source": [
    "class Solution:\n",
    "    def convertToTitle(self, n):\n",
    "        ans = \"\"\n",
    "        while n > 26:\n",
    "            ans += chr((n-1)%26  + ord('A'))\n",
    "            n = int((n-1)/26)\n",
    "        ans += chr((n-1)%26 + ord('A'))\n",
    "        return ans[::-1]"
   ]
  },
  {
   "cell_type": "markdown",
   "metadata": {},
   "source": [
    "## 171. Excel Sheet Column Number"
   ]
  },
  {
   "cell_type": "code",
   "execution_count": null,
   "metadata": {},
   "outputs": [],
   "source": [
    "class Solution:\n",
    "    def titleToNumber(self, s):\n",
    "        \"\"\"\n",
    "        :type s: str\n",
    "        :rtype: int\n",
    "        \"\"\"\n",
    "        if not s:\n",
    "            return 0\n",
    "        ans = 0\n",
    "        N = len(s)\n",
    "        for i in range(len(s)):\n",
    "            ans += pow(26,N-1-i)*(ord(s[i]) - ord('A') + 1)\n",
    "        return ans"
   ]
  },
  {
   "cell_type": "markdown",
   "metadata": {},
   "source": [
    "## 598. Range Addition II"
   ]
  },
  {
   "cell_type": "code",
   "execution_count": 8,
   "metadata": {},
   "outputs": [],
   "source": [
    "class Solution:\n",
    "    def maxCount(self, m, n, ops):\n",
    "        if not ops:\n",
    "            return m*n\n",
    "        a = min(op[0] for op in ops)\n",
    "        b = min(op[1] for op in ops)\n",
    "        return a*b"
   ]
  },
  {
   "cell_type": "markdown",
   "metadata": {},
   "source": [
    "## 492. Construct the Rectangle"
   ]
  },
  {
   "cell_type": "code",
   "execution_count": 13,
   "metadata": {},
   "outputs": [
    {
     "name": "stdout",
     "output_type": "stream",
     "text": [
      "2.0\n"
     ]
    }
   ],
   "source": [
    "import math\n",
    "print(math.sqrt(4))"
   ]
  },
  {
   "cell_type": "code",
   "execution_count": null,
   "metadata": {},
   "outputs": [],
   "source": [
    "class Solution:\n",
    "    def constructRectangle(self, area):\n",
    "        \"\"\"\n",
    "        :type area: int\n",
    "        :rtype: List[int]\n",
    "        \"\"\"\n",
    "        import math\n",
    "        num = int(math.sqrt(area))\n",
    "        if num ** 2 == area:\n",
    "            return [num, num]\n",
    "        for num in range(num, 0, -1):\n",
    "            if area % num == 0:\n",
    "                return [int(area / num), num]\n"
   ]
  },
  {
   "cell_type": "code",
   "execution_count": null,
   "metadata": {},
   "outputs": [],
   "source": [
    "import math\n",
    "class Solution:\n",
    "    def constructRectangle(self, area):\n",
    "        if area is 1:\n",
    "            return [1,1]\n",
    "        for L in range(math.ceil(math.sqrt(area)), area+1):\n",
    "            if area % L is 0:\n",
    "                return [L, int(area/L)]"
   ]
  },
  {
   "cell_type": "markdown",
   "metadata": {},
   "source": [
    "## 765. Couples Holding Hands"
   ]
  },
  {
   "cell_type": "code",
   "execution_count": 5,
   "metadata": {},
   "outputs": [
    {
     "name": "stdout",
     "output_type": "stream",
     "text": [
      "[1, 2]\n",
      "[2, 1]\n"
     ]
    }
   ],
   "source": [
    "a = [1,2]\n",
    "print(a)\n",
    "\n",
    "tmp = a[1]\n",
    "a[1] =  a[0]\n",
    "a[0] = tmp\n",
    "\n",
    "print(a)"
   ]
  },
  {
   "cell_type": "code",
   "execution_count": 4,
   "metadata": {},
   "outputs": [
    {
     "name": "stdout",
     "output_type": "stream",
     "text": [
      "1\n"
     ]
    }
   ],
   "source": [
    "print(a[1])"
   ]
  },
  {
   "cell_type": "code",
   "execution_count": null,
   "metadata": {},
   "outputs": [],
   "source": []
  }
 ],
 "metadata": {
  "kernelspec": {
   "display_name": "Python 3",
   "language": "python",
   "name": "python3"
  },
  "language_info": {
   "codemirror_mode": {
    "name": "ipython",
    "version": 3
   },
   "file_extension": ".py",
   "mimetype": "text/x-python",
   "name": "python",
   "nbconvert_exporter": "python",
   "pygments_lexer": "ipython3",
   "version": "3.5.4"
  }
 },
 "nbformat": 4,
 "nbformat_minor": 2
}
